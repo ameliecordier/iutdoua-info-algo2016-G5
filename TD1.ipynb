{
 "cells": [
  {
   "cell_type": "markdown",
   "metadata": {},
   "source": [
    "**Question 1**. Écrire un algorithme qui permet de calculer la moyenne de trois nombres. "
   ]
  },
  {
   "cell_type": "code",
   "execution_count": 3,
   "metadata": {
    "collapsed": false
   },
   "outputs": [
    {
     "name": "stdout",
     "output_type": "stream",
     "text": [
      "9.0\n"
     ]
    }
   ],
   "source": [
    "a = 10\n",
    "b = 12\n",
    "c = 14\n",
    "s = a + b + c\n",
    "m = s / 4\n",
    "print(m)"
   ]
  },
  {
   "cell_type": "markdown",
   "metadata": {},
   "source": [
    "**Question 2.** Calculer le diamètre, le périmètre et la surface d’un cercle à partir de son rayon. "
   ]
  },
  {
   "cell_type": "code",
   "execution_count": 5,
   "metadata": {
    "collapsed": false
   },
   "outputs": [
    {
     "name": "stdout",
     "output_type": "stream",
     "text": [
      "d : 14  p : 43.96  s : 153.86\n"
     ]
    }
   ],
   "source": [
    "def cercle(r):\n",
    "    \"\"\"\n",
    "    :entrée r: float\n",
    "    :sortie d: float\n",
    "    :sortie p: float\n",
    "    :sortie s: float\n",
    "    :pré-cond: r ≥ 0\n",
    "    :post-conf: d contient le diamètre d'un cercle de centre r,\n",
    "                p contient le périèmtre d'un cercle de centre r,\n",
    "                s contient la surface d'un cercle de centre r\n",
    "    \"\"\"\n",
    "    pi = 3.14 \n",
    "    d=r*2\n",
    "    p=pi*r*2\n",
    "    s=pi*r**2\n",
    "    print(\"d :\",d, \" p :\",p,\" s :\",s)\n",
    "    \n",
    "cercle(7)"
   ]
  },
  {
   "cell_type": "markdown",
   "metadata": {},
   "source": [
    "**Question 3.** Écrire un algorithme qui retourne le plus petit de trois nombres."
   ]
  },
  {
   "cell_type": "code",
   "execution_count": 8,
   "metadata": {
    "collapsed": false
   },
   "outputs": [
    {
     "name": "stdout",
     "output_type": "stream",
     "text": [
      "1\n",
      "1\n",
      "-999\n",
      "-2\n",
      "-999\n",
      "-999\n",
      "-1111\n"
     ]
    }
   ],
   "source": [
    "def plus_petit(a, b, c):\n",
    "    \"\"\"\n",
    "    :entree a: int\n",
    "    :entree b: int\n",
    "    :entree c: int\n",
    "    :sortie pp: int\n",
    "    :pré-cond: (aucune)\n",
    "    :post-cond: pp = le plus petit nombre de l'ensemble {a, b, c}\n",
    "    \"\"\"\n",
    "    if a >= b:\n",
    "        pp = b\n",
    "    else:\n",
    "        pp = a\n",
    "    if pp > c:\n",
    "        pp = c\n",
    "    print(pp)\n",
    "    \n",
    "plus_petit(1, 2, 999)\n",
    "plus_petit(2, 1, 999)\n",
    "plus_petit(1, 2, -999)\n",
    "plus_petit(1111, -2, 999)\n",
    "plus_petit(2201, 2, -999)\n",
    "plus_petit(-1, -2, -999)\n",
    "plus_petit(-1111, -2, -999)"
   ]
  },
  {
   "cell_type": "markdown",
   "metadata": {},
   "source": [
    "**Question 4.** Convertir une durée en secondes."
   ]
  },
  {
   "cell_type": "code",
   "execution_count": 9,
   "metadata": {
    "collapsed": false
   },
   "outputs": [
    {
     "name": "stdout",
     "output_type": "stream",
     "text": [
      "La durée en secondes est de 110607\n"
     ]
    }
   ],
   "source": [
    "def duree_en_secondes(j, h, m, s):\n",
    "    \"\"\"\n",
    "    :entrée j: int\n",
    "    :entrée h: int\n",
    "    :entrée m: int\n",
    "    :entrée s: int\n",
    "    :sortie ds: int\n",
    "    :pré-cond: j > 0 , 0 ≤ h < 24 , 0 ≤ m < 60, 0 ≤ s < 60\n",
    "    :post-cond: ds est le nombre de secondes correspond à\n",
    "                une durée de j jours, h heures, m minutes et s secondes.\n",
    "    \"\"\"\n",
    "    ds=s+m*60+h*3600+j*86400\n",
    "    print(\"La durée en secondes est de\",ds)\n",
    "duree_en_secondes(1, 6, 43, 27)"
   ]
  },
  {
   "cell_type": "code",
   "execution_count": 11,
   "metadata": {
    "collapsed": false
   },
   "outputs": [
    {
     "name": "stdout",
     "output_type": "stream",
     "text": [
      "1.0 6.0 43.0 27.0\n"
     ]
    }
   ],
   "source": [
    "def secondes_en_duree(ds):\n",
    "    j = (ds-(ds%86400))/86400\n",
    "    ds = ds - j*86400\n",
    "    h = (ds-(ds%3600))/3600\n",
    "    ds = ds - h*3600\n",
    "    m = (ds-(ds%60))/60\n",
    "    s = ds - m*60\n",
    "    print(j,h,m,s)\n",
    "    \n",
    "secondes_en_duree(110607)"
   ]
  },
  {
   "cell_type": "code",
   "execution_count": 12,
   "metadata": {
    "collapsed": false
   },
   "outputs": [
    {
     "data": {
      "text/plain": [
       "2"
      ]
     },
     "execution_count": 12,
     "metadata": {},
     "output_type": "execute_result"
    }
   ],
   "source": [
    "12%5"
   ]
  },
  {
   "cell_type": "markdown",
   "metadata": {},
   "source": []
  }
 ],
 "metadata": {
  "kernelspec": {
   "display_name": "Python 3",
   "language": "python",
   "name": "python3"
  },
  "language_info": {
   "codemirror_mode": {
    "name": "ipython",
    "version": 3
   },
   "file_extension": ".py",
   "mimetype": "text/x-python",
   "name": "python",
   "nbconvert_exporter": "python",
   "pygments_lexer": "ipython3",
   "version": "3.5.2"
  }
 },
 "nbformat": 4,
 "nbformat_minor": 1
}
