{
 "cells": [
  {
   "cell_type": "markdown",
   "metadata": {},
   "source": [
    "1. Calculer la différence en secondes entre deux dates\n",
    "2. Dire quelle lettre apparaît le plus souvent dans une chaîne de caractères\n",
    "3. Écrire l'algorithme de factorielle\n",
    "4. Calculer la somme des n premières factorielles\n",
    "5. Afficher sur plusieurs lignes une chaîne en fonction d'un séparateur\n",
    "6. Compter le nombre de majuscules dans une chaîne\n",
    "7. Compter le nombre de mots dans une chaîne\n",
    "8. Calculer la longueur moyenne des mots dans une chaîne\n",
    "9. Vérifier si une chaîne est bien parenthésée\n",
    "10. Convertir une chaîne en entier sans utiliser int sur le nombre entier\n"
   ]
  },
  {
   "cell_type": "code",
   "execution_count": 1,
   "metadata": {
    "collapsed": false
   },
   "outputs": [
    {
     "name": "stdout",
     "output_type": "stream",
     "text": [
      "zpeoufzoe\n",
      "ezifbuhzoebf\n",
      "efuyzue\n",
      "deuybzq\n",
      "feuyzfb\n"
     ]
    }
   ],
   "source": [
    "def remettreLigne(ch1,sep):\n",
    "    '''\n",
    "    :entrée ch1: String\n",
    "    :entrée sep: Char\n",
    "    :pré-cond:\n",
    "    :post-cond:Fait un retour à la ligne à chaque fois qu'il y a le séparateur\n",
    "    '''\n",
    "    ch2=\"\"\n",
    "    for i in ch1:\n",
    "        if(i==sep):\n",
    "            print(ch2)\n",
    "            ch2=\"\"\n",
    "        else:\n",
    "            ch2 = ch2 + i\n",
    "    print(ch2)\n",
    "    \n",
    "remettreLigne(\"zpeoufzoe,ezifbuhzoebf,efuyzue,deuybzq,feuyzfb\",\",\")"
   ]
  },
  {
   "cell_type": "code",
   "execution_count": 6,
   "metadata": {
    "collapsed": false
   },
   "outputs": [
    {
     "name": "stdout",
     "output_type": "stream",
     "text": [
      "42\n"
     ]
    }
   ],
   "source": [
    "def toNombre(chaine):\n",
    "    '''\n",
    "        :entrée chaine: str\n",
    "        :sortie nb: int\n",
    "        :precond: chaine représente un entier positif\n",
    "        :post-cond: nb = int(chaine)\n",
    "    '''\n",
    "    exp = 0\n",
    "    if(chaine[0] == \"-\"):\n",
    "        exp = 1\n",
    "        chaine = chaine[1:]\n",
    "    nb = 0\n",
    "    for i in range(len(chaine)):\n",
    "        nb += 10**(len(chaine)-1-i)*(ord(chaine[i])-48)\n",
    "    return(nb*((-1)**exp))\n",
    "\n",
    "print(toNombre(\"42\"))\n",
    "\n",
    "\n",
    "    "
   ]
  },
  {
   "cell_type": "code",
   "execution_count": 9,
   "metadata": {
    "collapsed": false
   },
   "outputs": [
    {
     "name": "stdout",
     "output_type": "stream",
     "text": [
      "4\n"
     ]
    }
   ],
   "source": [
    "def nombreMots(chaine):\n",
    "    n = 1\n",
    "    for c in chaine:\n",
    "        if c == \" \":\n",
    "           n += 1\n",
    "    return (n)\n",
    "print(nombreMots(\"Ceci est une phrase\"))"
   ]
  },
  {
   "cell_type": "code",
   "execution_count": 12,
   "metadata": {
    "collapsed": false
   },
   "outputs": [
    {
     "name": "stdout",
     "output_type": "stream",
     "text": [
      "5.222222222222222\n",
      "4.0\n"
     ]
    }
   ],
   "source": [
    "def longueurMoyenne(chaine):\n",
    "    '''\n",
    "    :entrée: chaine : string\n",
    "    :sortie: n : float\n",
    "    :pré-cond: Voir pré-cond de l'algo \"nombreMots\"\n",
    "    :post-cond: L'algo renvoie la longueur moyenne des mots de la chaine\n",
    "    '''\n",
    "    nbrMots = nombreMots(chaine)\n",
    "    longueurTotale = len(chaine) - (nbrMots-1)\n",
    "    n = longueurTotale / nbrMots\n",
    "    return(n)\n",
    "\n",
    "print(longueurMoyenne(\"Ceci est une phrase avec un mot treeeeeeeeeeeeeees long\"))\n",
    "print(longueurMoyenne(\"Ceci este unet phra\"))\n"
   ]
  },
  {
   "cell_type": "code",
   "execution_count": 17,
   "metadata": {
    "collapsed": false
   },
   "outputs": [
    {
     "name": "stdout",
     "output_type": "stream",
     "text": [
      "True\n",
      "False\n",
      "False\n",
      "False\n"
     ]
    }
   ],
   "source": [
    "def testParenthese(chaine):\n",
    "    \"\"\"\n",
    "    entrée: chaine: string\n",
    "    sortie testParenthese: bool\n",
    "    précond:\n",
    "    postcond: testParenthèse est vrai si toutes les parenthèse ouverte\n",
    "                sont fermées et qu'il n'y a pas de mauvaise imbrication\n",
    "    \n",
    "    \"\"\"\n",
    "    \n",
    "    nbrParenthese = 0\n",
    "    i = 0\n",
    "    while nbrParenthese >= 0 and i < len(chaine):\n",
    "        if chaine[i] == \"(\":\n",
    "            nbrParenthese += 1\n",
    "        elif chaine[i] == \")\":\n",
    "            nbrParenthese -= 1\n",
    "        i+=1\n",
    "    return (nbrParenthese == 0)\n",
    "\n",
    "print(testParenthese(\"((((()))))\"))\n",
    "print(testParenthese(\"(((((()))))\"))\n",
    "print(testParenthese(\")(\"))\n",
    "print(testParenthese(\"(()))(\"))\n"
   ]
  },
  {
   "cell_type": "code",
   "execution_count": 20,
   "metadata": {
    "collapsed": false
   },
   "outputs": [
    {
     "name": "stdout",
     "output_type": "stream",
     "text": [
      "154\n",
      "4\n"
     ]
    }
   ],
   "source": [
    "def fact(a):\n",
    "    '''\n",
    "        :entree a: int \n",
    "        :sortie b: int\n",
    "        :precond: a >= 0\n",
    "        :post-cond: b = a!\n",
    "    '''\n",
    "    b = 1\n",
    "    for i in range(1,a+1):\n",
    "        b *= i\n",
    "    return(b)\n",
    "    \n",
    "def sommeFact(a):\n",
    "    '''\n",
    "        :entree a: int\n",
    "        :sortie b: int \n",
    "        :precond: a >= 0\n",
    "        :post-cond: b somme de 0! à a!\n",
    "    '''\n",
    "    b = 0\n",
    "    for i in range(a+1):\n",
    "        b += fact(i)\n",
    "    return(b)\n",
    "\n",
    "print(sommeFact(5))\n",
    "print(sommeFact(2))\n",
    "\n",
    "    "
   ]
  },
  {
   "cell_type": "code",
   "execution_count": null,
   "metadata": {
    "collapsed": true
   },
   "outputs": [],
   "source": []
  }
 ],
 "metadata": {
  "kernelspec": {
   "display_name": "Python 3",
   "language": "python",
   "name": "python3"
  },
  "language_info": {
   "codemirror_mode": {
    "name": "ipython",
    "version": 3
   },
   "file_extension": ".py",
   "mimetype": "text/x-python",
   "name": "python",
   "nbconvert_exporter": "python",
   "pygments_lexer": "ipython3",
   "version": "3.5.2"
  }
 },
 "nbformat": 4,
 "nbformat_minor": 1
}
