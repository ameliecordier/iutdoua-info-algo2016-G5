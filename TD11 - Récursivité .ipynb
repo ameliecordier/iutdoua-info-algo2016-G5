{
 "cells": [
  {
   "cell_type": "markdown",
   "metadata": {},
   "source": [
    "Écrire factorielle en récursif. Attention à la condition d'arrêt !"
   ]
  },
  {
   "cell_type": "code",
   "execution_count": 3,
   "metadata": {
    "collapsed": false
   },
   "outputs": [
    {
     "name": "stdout",
     "output_type": "stream",
     "text": [
      "24\n",
      "39916800\n"
     ]
    }
   ],
   "source": [
    "def facto(n):\n",
    "    if n <=1:\n",
    "        return 1\n",
    "    else:\n",
    "        return n*facto(n-1)\n",
    "    \n",
    "print(facto(4))\n",
    "print(facto(11))"
   ]
  },
  {
   "cell_type": "markdown",
   "metadata": {},
   "source": [
    "Écrire fibo en récursif. "
   ]
  },
  {
   "cell_type": "code",
   "execution_count": 2,
   "metadata": {
    "collapsed": false
   },
   "outputs": [
    {
     "name": "stdout",
     "output_type": "stream",
     "text": [
      "5\n",
      "8\n"
     ]
    }
   ],
   "source": [
    "def fibo(n):\n",
    "    if n > 1:\n",
    "        return fibo(n-1)+fibo(n-2)\n",
    "    else:\n",
    "        return 1\n",
    "    \n",
    "print(fibo(4))\n",
    "print(fibo(5))"
   ]
  },
  {
   "cell_type": "markdown",
   "metadata": {},
   "source": [
    "Écrire la fonction puissance en récursif. Question de recherche personnelle : comment se comporte l'algorithme suivant avec n=0 ? Et avec p=0 ? Comment résoudre le problème (s'il y en a un) ? "
   ]
  },
  {
   "cell_type": "code",
   "execution_count": 2,
   "metadata": {
    "collapsed": false
   },
   "outputs": [
    {
     "name": "stdout",
     "output_type": "stream",
     "text": [
      "256\n"
     ]
    }
   ],
   "source": [
    "def myPow(n,p):\n",
    "    if p <= 1:\n",
    "        return n\n",
    "    else:\n",
    "        return n*myPow(n, p-1)\n",
    "    \n",
    "print(myPow(2,8))"
   ]
  },
  {
   "cell_type": "markdown",
   "metadata": {},
   "source": [
    "Proposer un algorithme récursif pour donner l'écriture en binaire d'un nombre décimal passé en paramètre. "
   ]
  },
  {
   "cell_type": "code",
   "execution_count": 6,
   "metadata": {
    "collapsed": false
   },
   "outputs": [
    {
     "data": {
      "text/plain": [
       "'1011'"
      ]
     },
     "execution_count": 6,
     "metadata": {},
     "output_type": "execute_result"
    }
   ],
   "source": [
    "def ecritureBinaire(ch, n):\n",
    "    if n <= 0:\n",
    "        return(ch)\n",
    "    else:\n",
    "        return(ecritureBinaire(str(n%2)+ch,n//2))\n",
    "\n",
    "ecritureBinaire(\"\", 11)"
   ]
  },
  {
   "cell_type": "markdown",
   "metadata": {},
   "source": [
    "Ci-dessous une solution alternative"
   ]
  },
  {
   "cell_type": "code",
   "execution_count": 7,
   "metadata": {
    "collapsed": false
   },
   "outputs": [
    {
     "data": {
      "text/plain": [
       "1011"
      ]
     },
     "execution_count": 7,
     "metadata": {},
     "output_type": "execute_result"
    }
   ],
   "source": [
    "def decToBin(n):\n",
    "    if n <= 0:\n",
    "        return 0\n",
    "    else:\n",
    "        return decToBin(n//2)*10+n%2\n",
    "decToBin(11)"
   ]
  },
  {
   "cell_type": "markdown",
   "metadata": {},
   "source": [
    "Proposez un algorithme récursif pour la multiplication. "
   ]
  },
  {
   "cell_type": "code",
   "execution_count": 7,
   "metadata": {
    "collapsed": false
   },
   "outputs": [
    {
     "name": "stdout",
     "output_type": "stream",
     "text": [
      "36\n"
     ]
    }
   ],
   "source": [
    "def multRecursive(m, n):\n",
    "    if(m <= 0):\n",
    "        return 0\n",
    "    else:\n",
    "        return multRecursive(m-1,n)+n\n",
    "    \n",
    "print(multRecursive(6,6))"
   ]
  }
 ],
 "metadata": {
  "kernelspec": {
   "display_name": "Python 3",
   "language": "python",
   "name": "python3"
  },
  "language_info": {
   "codemirror_mode": {
    "name": "ipython",
    "version": 3
   },
   "file_extension": ".py",
   "mimetype": "text/x-python",
   "name": "python",
   "nbconvert_exporter": "python",
   "pygments_lexer": "ipython3",
   "version": "3.5.2"
  }
 },
 "nbformat": 4,
 "nbformat_minor": 1
}
