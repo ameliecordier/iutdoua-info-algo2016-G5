{
 "cells": [
  {
   "cell_type": "markdown",
   "metadata": {},
   "source": [
    "** Attention ** : le cours est à lire dans son intégralité pour le prochain TD. Si vous avez des questions, n'hésitez pas à les poser au prochain TD... car au TD suivant, vous aurez une interrogation !"
   ]
  },
  {
   "cell_type": "markdown",
   "metadata": {},
   "source": [
    "**Les tableaux**"
   ]
  },
  {
   "cell_type": "code",
   "execution_count": 9,
   "metadata": {
    "collapsed": false
   },
   "outputs": [
    {
     "name": "stdout",
     "output_type": "stream",
     "text": [
      "[ 0.  0.  0.  0.  0.  0.  0.  0.  0.  0.]\n",
      "10\n",
      "0.0\n",
      "[1 2 4 6 7]\n",
      "7\n"
     ]
    }
   ],
   "source": [
    "#Initialisation pour utiliser des \"vrais\" tableaux\n",
    "import numpy as np\n",
    "tableau = np.empty(10)\n",
    "print(tableau)\n",
    "print(len(tableau))\n",
    "print(tableau[4])\n",
    "autretableau = np.array([1,2,4,6,7])\n",
    "print(autretableau)\n",
    "print(autretableau[4])"
   ]
  },
  {
   "cell_type": "code",
   "execution_count": 4,
   "metadata": {
    "collapsed": false
   },
   "outputs": [
    {
     "name": "stdout",
     "output_type": "stream",
     "text": [
      "[ 0.  0.  0.  0.  0.  0.  0.  0.  0.  0.]\n"
     ]
    }
   ],
   "source": [
    "tableau0 = np.zeros(10)\n",
    "print(tableau0)"
   ]
  },
  {
   "cell_type": "markdown",
   "metadata": {},
   "source": [
    "**Exercices ** \n",
    "1. Rechercher si un élément est présent dans un tableau. \n",
    "2. Vérifier que deux tableaux sont égaux. \n",
    "3. Vérifier qu'un tableau est le préfixe d'un autre. \n",
    "4. Rechercher le minimum d'un tableau.\n",
    "5. Faire la somme des éléments d'un tableau.\n",
    "6. Calculer la moyenne des éléments d'un tableau.\n",
    "7. Multiplier tous les éléments d'un tableau par un facteur donné.\n",
    "8. Décaler tous les éléments d'un tableau à droite.\n",
    "9. Retourner un tableau contentant, case par case, le minimum de deux autres tableaux. \n",
    "10. Faire la somme des éléments dans les cases impaires d'un tableau. "
   ]
  },
  {
   "cell_type": "code",
   "execution_count": null,
   "metadata": {
    "collapsed": true
   },
   "outputs": [],
   "source": []
  }
 ],
 "metadata": {
  "kernelspec": {
   "display_name": "Python 3",
   "language": "python",
   "name": "python3"
  },
  "language_info": {
   "codemirror_mode": {
    "name": "ipython",
    "version": 3
   },
   "file_extension": ".py",
   "mimetype": "text/x-python",
   "name": "python",
   "nbconvert_exporter": "python",
   "pygments_lexer": "ipython3",
   "version": "3.5.2"
  }
 },
 "nbformat": 4,
 "nbformat_minor": 1
}
