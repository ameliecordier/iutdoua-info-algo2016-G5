{
 "cells": [
  {
   "cell_type": "markdown",
   "metadata": {},
   "source": [
    "** Attention ** : le cours est à lire dans son intégralité pour le prochain TD. Si vous avez des questions, n'hésitez pas à les poser au prochain TD... car au TD suivant, vous aurez une interrogation !"
   ]
  },
  {
   "cell_type": "markdown",
   "metadata": {},
   "source": [
    "**Les tableaux**"
   ]
  },
  {
   "cell_type": "code",
   "execution_count": 1,
   "metadata": {
    "collapsed": false
   },
   "outputs": [
    {
     "name": "stdout",
     "output_type": "stream",
     "text": [
      "[  1.08835389e-316   0.00000000e+000   6.90066334e-310   6.90069405e-310\n",
      "   6.90068060e-310   6.90069405e-310   1.12638588e-316   0.00000000e+000\n",
      "   6.90070023e-310   6.36598737e-311]\n",
      "10\n",
      "6.90068060163e-310\n",
      "[1 2 4 6 7]\n",
      "7\n"
     ]
    }
   ],
   "source": [
    "#Initialisation pour utiliser des \"vrais\" tableaux\n",
    "import numpy as np\n",
    "tableau = np.empty(10)\n",
    "print(tableau)\n",
    "print(len(tableau))\n",
    "print(tableau[4])\n",
    "autretableau = np.array([1,2,4,6,7])\n",
    "print(autretableau)\n",
    "print(autretableau[4])"
   ]
  },
  {
   "cell_type": "code",
   "execution_count": 2,
   "metadata": {
    "collapsed": false
   },
   "outputs": [
    {
     "name": "stdout",
     "output_type": "stream",
     "text": [
      "[ 0.  0.  0.  0.  0.  0.  0.  0.  0.  0.]\n"
     ]
    }
   ],
   "source": [
    "tableau0 = np.zeros(10)\n",
    "print(tableau0)"
   ]
  },
  {
   "cell_type": "markdown",
   "metadata": {},
   "source": [
    "**Exercices ** \n",
    "1. Rechercher si un élément est présent dans un tableau. \n",
    "2. Vérifier que deux tableaux sont égaux. \n",
    "3. Vérifier qu'un tableau est le préfixe d'un autre. \n",
    "4. Rechercher le minimum d'un tableau.\n",
    "5. Faire la somme des éléments d'un tableau.\n",
    "6. Calculer la moyenne des éléments d'un tableau.\n",
    "7. Multiplier tous les éléments d'un tableau par un facteur donné.\n",
    "8. Décaler tous les éléments d'un tableau à droite.\n",
    "9. Retourner un tableau contentant, case par case, le minimum de deux autres tableaux. \n",
    "10. Faire la somme des éléments dans les cases impaires d'un tableau. "
   ]
  },
  {
   "cell_type": "code",
   "execution_count": 3,
   "metadata": {
    "collapsed": false
   },
   "outputs": [
    {
     "name": "stdout",
     "output_type": "stream",
     "text": [
      "[1 2 3 5 6 7 9]\n"
     ]
    }
   ],
   "source": [
    "# Initialisation du tableau test \n",
    "tableautest = np.array([1,2,3,5,6,7,9])\n",
    "print(tableautest)"
   ]
  },
  {
   "cell_type": "code",
   "execution_count": 4,
   "metadata": {
    "collapsed": false
   },
   "outputs": [
    {
     "name": "stdout",
     "output_type": "stream",
     "text": [
      "False\n",
      "True\n"
     ]
    }
   ],
   "source": [
    "# Correction exercice 1 \n",
    "def rechercherElt(elt, tab):\n",
    "    present = False\n",
    "    for i in tab :\n",
    "        if i == elt:\n",
    "            present= True\n",
    "    return present\n",
    "        \n",
    "print(rechercherElt(15, tableautest))\n",
    "print(rechercherElt(3, tableautest))"
   ]
  },
  {
   "cell_type": "code",
   "execution_count": 5,
   "metadata": {
    "collapsed": false
   },
   "outputs": [
    {
     "data": {
      "text/plain": [
       "True"
      ]
     },
     "execution_count": 5,
     "metadata": {},
     "output_type": "execute_result"
    }
   ],
   "source": [
    "#Correction exercice 1 (un peu compliquée, et ne fonctionne pas \n",
    "# si l'élément est dans la dernière case du tableau !)\n",
    "\n",
    "def rechercherElement(element, tableau):\n",
    "    finBoucle = False\n",
    "    compteur = 0\n",
    "    while finBoucle == False:\n",
    "        if tableau[compteur] == element:\n",
    "            finBoucle = True\n",
    "        if compteur == len(tableau) - 1:\n",
    "            finBoucle = True\n",
    "        compteur+=1\n",
    "    \n",
    "    if compteur < len(tableau):\n",
    "        return True\n",
    "    else:\n",
    "        return False\n",
    "    \n",
    "rechercherElement(3, tableautest)\n"
   ]
  },
  {
   "cell_type": "code",
   "execution_count": 6,
   "metadata": {
    "collapsed": false
   },
   "outputs": [
    {
     "name": "stdout",
     "output_type": "stream",
     "text": [
      "True\n",
      "False\n"
     ]
    }
   ],
   "source": [
    "#Correction exercice 1 avec un while\n",
    "\n",
    "def rechercherElementPropre(elt, tab):\n",
    "    i = 0\n",
    "    b = False\n",
    "    while i < len(tab) and not b:\n",
    "        if tab[i] == elt:\n",
    "            b = True\n",
    "        i+=1\n",
    "    return b\n",
    "\n",
    "print(rechercherElementPropre(3, tableautest))\n",
    "print(rechercherElementPropre(15, tableautest))\n",
    "\n",
    "            \n",
    "        \n",
    "    "
   ]
  },
  {
   "cell_type": "code",
   "execution_count": 7,
   "metadata": {
    "collapsed": true
   },
   "outputs": [],
   "source": [
    "# Autre série de tableaux pour les tests\n",
    "test1 = np.array([1, 2, 3, 4, 5, 7, 9])\n",
    "test2 = np.array([1, 3])\n",
    "test3 = np.array([1, 2])"
   ]
  },
  {
   "cell_type": "code",
   "execution_count": 8,
   "metadata": {
    "collapsed": false
   },
   "outputs": [
    {
     "name": "stdout",
     "output_type": "stream",
     "text": [
      "False\n",
      "True\n"
     ]
    }
   ],
   "source": [
    "# Correction exercice 2 \n",
    "def comparaison(tab1, tab2):\n",
    "    pareil = True\n",
    "    if len(tab1) == len(tab2):\n",
    "        i=0\n",
    "        while i < len(tab1) and pareil == True:\n",
    "            if tab1[i] != tab2[i]:\n",
    "                pareil = False\n",
    "            i+=1\n",
    "    else:\n",
    "        pareil = False\n",
    "    return(pareil)\n",
    "\n",
    "print(comparaison(test1, test2))\n",
    "print(comparaison(test1, test1))"
   ]
  },
  {
   "cell_type": "code",
   "execution_count": 9,
   "metadata": {
    "collapsed": false
   },
   "outputs": [
    {
     "name": "stdout",
     "output_type": "stream",
     "text": [
      "True\n",
      "True\n",
      "True\n",
      "True\n",
      "True\n",
      "True\n"
     ]
    }
   ],
   "source": [
    "# Correction exercice 3 \n",
    "def estPrefixe(t1, t2):\n",
    "    result = True\n",
    "    if len(t1) > len(t2):\n",
    "        result = False\n",
    "    else:\n",
    "        i = 0\n",
    "        while i < len(t1) and result:\n",
    "            if t1[i] != t2[i]:\n",
    "                result = False\n",
    "            i += 1\n",
    "    return result\n",
    "    \n",
    "print(estPrefixe(test2, test1) == False)\n",
    "print(estPrefixe(test3, test1) == True)\n",
    "\n",
    "\n",
    "# estPrefixeGenerique rend obsolète le premier test de \n",
    "# estPrefixe qui pourrait donc être amélioré. \n",
    "\n",
    "def estPrefixeGenerique(t1,t2):\n",
    "    if len(t1)<len(t2):\n",
    "        result = estPrefixe(t1,t2)\n",
    "    else:\n",
    "        result = estPrefixe(t2,t1)\n",
    "    return(result)\n",
    "print(estPrefixeGenerique(test2, test1) == False)\n",
    "print(estPrefixeGenerique(test3, test1) == True)\n",
    "print(estPrefixeGenerique(test1, test2) == False)\n",
    "print(estPrefixeGenerique(test1, test3) == True)"
   ]
  },
  {
   "cell_type": "code",
   "execution_count": 10,
   "metadata": {
    "collapsed": false
   },
   "outputs": [
    {
     "name": "stdout",
     "output_type": "stream",
     "text": [
      "1\n"
     ]
    }
   ],
   "source": [
    "# Exercice 4 \n",
    "def minimun (tab):\n",
    "    minimun = tab[0]\n",
    "    for i in range (len(tab)):\n",
    "        if minimun > tab[i]:\n",
    "            minimun = tab [i]\n",
    "            \n",
    "    return minimun\n",
    "print (minimun (test1))"
   ]
  },
  {
   "cell_type": "code",
   "execution_count": 11,
   "metadata": {
    "collapsed": false
   },
   "outputs": [
    {
     "name": "stdout",
     "output_type": "stream",
     "text": [
      "31\n"
     ]
    }
   ],
   "source": [
    "# Exercice 5\n",
    "def somme(tab):\n",
    "    somme = 0\n",
    "    for i in range(len(tab)):\n",
    "        somme = somme + tab[i]\n",
    "    return(somme)\n",
    "\n",
    "print(somme(test1))"
   ]
  },
  {
   "cell_type": "code",
   "execution_count": 12,
   "metadata": {
    "collapsed": false
   },
   "outputs": [
    {
     "name": "stdout",
     "output_type": "stream",
     "text": [
      "2.0\n"
     ]
    }
   ],
   "source": [
    "# Exercice 6 \n",
    "def moyenne(tab):\n",
    "    if len(tab) != 0:\n",
    "        moy = somme(tab)/len(tab)\n",
    "    else:\n",
    "        return 0\n",
    "    return(moy)\n",
    "\n",
    "print(moyenne(test2))"
   ]
  },
  {
   "cell_type": "markdown",
   "metadata": {},
   "source": [
    "La suite des exercices est corrigée dans le TD13. "
   ]
  }
 ],
 "metadata": {
  "kernelspec": {
   "display_name": "Python 3",
   "language": "python",
   "name": "python3"
  },
  "language_info": {
   "codemirror_mode": {
    "name": "ipython",
    "version": 3
   },
   "file_extension": ".py",
   "mimetype": "text/x-python",
   "name": "python",
   "nbconvert_exporter": "python",
   "pygments_lexer": "ipython3",
   "version": "3.5.2"
  }
 },
 "nbformat": 4,
 "nbformat_minor": 1
}
