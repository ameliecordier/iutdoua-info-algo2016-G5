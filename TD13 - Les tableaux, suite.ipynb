{
 "cells": [
  {
   "cell_type": "markdown",
   "metadata": {},
   "source": [
    "**Suite des exercices du TD12** \n",
    "\n",
    "Ex 7. Multiplier tous les éléments d'un tableau par un facteur donné.\n",
    "\n",
    "EX 8. Décaler tous les éléments d'un tableau à droite.\n",
    "\n",
    "Ex 9. Retourner un tableau contentant, case par case, le minimum de deux autres tableaux. \n",
    "\n",
    "Ex 10. Faire la somme des éléments dans les cases impaires d'un tableau. "
   ]
  },
  {
   "cell_type": "code",
   "execution_count": 2,
   "metadata": {
    "collapsed": false
   },
   "outputs": [
    {
     "name": "stdout",
     "output_type": "stream",
     "text": [
      "[ 4 12 68 84]\n"
     ]
    }
   ],
   "source": [
    "#Exercice 7 \n",
    "import numpy as np\n",
    "\n",
    "def multtab(tab, m):\n",
    "    for i in range(len(tab)):\n",
    "        tab[i] *= m\n",
    "        \n",
    "    return tab\n",
    "t1 = np.array([2,6,34,42])\n",
    "\n",
    "print(multtab(t1, 2))"
   ]
  },
  {
   "cell_type": "code",
   "execution_count": 3,
   "metadata": {
    "collapsed": false
   },
   "outputs": [
    {
     "name": "stdout",
     "output_type": "stream",
     "text": [
      "[69  2  4 42 76 89]\n"
     ]
    }
   ],
   "source": [
    "#Exercice 8 \n",
    "def decaleTab(tab):\n",
    "    i = len(tab) - 1\n",
    "    premElem = tab[i]\n",
    "    while i > 0:\n",
    "        tab[i] = tab[i - 1]\n",
    "        i -= 1\n",
    "    tab[0] = premElem\n",
    "    return(tab)\n",
    "\n",
    "t1 = np.array([2, 4, 42, 76, 89, 69])\n",
    "print(decaleTab(t1))"
   ]
  },
  {
   "cell_type": "code",
   "execution_count": 4,
   "metadata": {
    "collapsed": false
   },
   "outputs": [
    {
     "name": "stdout",
     "output_type": "stream",
     "text": [
      "[  2.   6.   0.  18.]\n"
     ]
    }
   ],
   "source": [
    "#Exercice 9 \n",
    "def minimundetable(t1,t2):\n",
    "    t3=np.empty(len(t1))\n",
    "    for i in range(len(t1)):\n",
    "        if t1[i]<t2[i]:\n",
    "            t3[i]=t1[i]\n",
    "        else:\n",
    "            t3[i]=t2[i]\n",
    "    return t3\n",
    "t1 = np.array([2,6,34,42])\n",
    "t2 = np.array([2,7,0,18])\n",
    "print (minimundetable(t1,t2))"
   ]
  },
  {
   "cell_type": "code",
   "execution_count": 7,
   "metadata": {
    "collapsed": false
   },
   "outputs": [
    {
     "name": "stdout",
     "output_type": "stream",
     "text": [
      "149\n"
     ]
    }
   ],
   "source": [
    "# Exercice 10 \n",
    "def sommeimp(tab):\n",
    "    r = 0\n",
    "    for i in range(1, len(tab), 2):\n",
    "        r += tab[i]\n",
    "    return r\n",
    "\n",
    "t1 = np.array([2, 4, 42, 76, 89, 69,123])\n",
    "print(sommeimp(t1))\n",
    "\n"
   ]
  },
  {
   "cell_type": "markdown",
   "metadata": {},
   "source": [
    "**Exercices - série 2**"
   ]
  },
  {
   "cell_type": "markdown",
   "metadata": {},
   "source": [
    "2.1. Retourner l'indice de la dernière occurrence du minimum d'un tableau.\n",
    "\n",
    "2.2. Remplacer tous les éléments aux indices premiers par un 0.\n",
    "\n",
    "2.3. Soit un tableau de notes (floats entre 0.0 et 20.0) de taille N, et un tableau d'entiers de taille M. Faire la moyenne des notes du premier tableaux en ne considérant que celles aux indices présents dans le second tableau. Pour cet exercice, vous écrirez les pré- et post-conditions. \n",
    "\n",
    "2.4. Inverser un tableau.\n",
    "\n",
    "2.5. Rechercher l'indice de la nième occurrence d'une valeur dans un tableau. \n",
    "\n"
   ]
  },
  {
   "cell_type": "code",
   "execution_count": 9,
   "metadata": {
    "collapsed": false
   },
   "outputs": [
    {
     "data": {
      "text/plain": [
       "9"
      ]
     },
     "execution_count": 9,
     "metadata": {},
     "output_type": "execute_result"
    }
   ],
   "source": [
    "#Exercice 2.1 \n",
    "def lastIndexOfMin(tab):\n",
    "    min = tab[0]\n",
    "    indiceMin = 0\n",
    "    i = 0\n",
    "    while i < len(tab):\n",
    "        if tab[i] <= min:\n",
    "            min = tab[i]\n",
    "            indiceMin = i\n",
    "        i += 1\n",
    "    return indiceMin\n",
    "test = np.array([1,56,-4,42,64,54,56,69,13,-4,17])\n",
    "\n",
    "lastIndexOfMin(test)"
   ]
  },
  {
   "cell_type": "code",
   "execution_count": 10,
   "metadata": {
    "collapsed": false
   },
   "outputs": [
    {
     "name": "stdout",
     "output_type": "stream",
     "text": [
      "13.0\n"
     ]
    }
   ],
   "source": [
    "#Exercice 2.3 \n",
    "def moyenneTableau(t1, t2):\n",
    "    somme = 0\n",
    "    for i in range(len(t2)):\n",
    "        somme += t1[t2[i]]\n",
    "        \n",
    "    return somme/len(t2)\n",
    "\n",
    "t1 = np.array([10,12,14,16])\n",
    "t2 = np.array([2,1])\n",
    "\n",
    "print(moyenneTableau(t1, t2))\n"
   ]
  },
  {
   "cell_type": "code",
   "execution_count": 13,
   "metadata": {
    "collapsed": false
   },
   "outputs": [
    {
     "name": "stdout",
     "output_type": "stream",
     "text": [
      "[4 3 2 1]\n"
     ]
    }
   ],
   "source": [
    "#Exercice 2.4\n",
    "def inverser_tableau(tab):\n",
    "    i = 0\n",
    "    while i < len(tab) - 1 - i:\n",
    "        #temp = tab[i]\n",
    "        #tab[i] = tab[len(tab) - 1 - i]\n",
    "        #tab[len(tab) - 1 - i] = temp\n",
    "        #Synthèse en une ligne :\n",
    "        tab[i], tab[len(tab) - 1 - i] = tab[len(tab) - 1 - i], tab[i]\n",
    "        i = i+1\n",
    "        \n",
    "    return tab\n",
    "\n",
    "t1 = np.array([1, 2, 3, 4])\n",
    "print(inverser_tableau(t1))"
   ]
  },
  {
   "cell_type": "code",
   "execution_count": 1,
   "metadata": {
    "collapsed": true
   },
   "outputs": [],
   "source": [
    "#Problème\n",
    "\n",
    "def moyennes_par_groupe(notes, nbEtu):\n",
    "    \"\"\"\n",
    "    :entrée notes: tableau de float\n",
    "    :entrée nbEtu: tableau d'int\n",
    "    :sortie moy: tableau de float\n",
    "    :pré-cond:\n",
    "       - la somme des éléments de nbEtu est égale à len(notes)\n",
    "       - notes[0 : nbEtu[0]] contient les notes du premier groupe ;\n",
    "         notes[nbEtu[0] : nbEtu[0] + nbEtu[1]] contient les notes du\n",
    "         deuxième groupe, et ainsi de suite...\n",
    "    :post-cond:\n",
    "       - len(moy) = len(nbEtu)\n",
    "       - ∀ i ∈ [0;len(moy)[,  moy[i] contient la moyenne des étudiants\n",
    "         du (i+1)ème groupe\n",
    "\n",
    "    >>> moyennes_par_groupes([11.0, 9.0, 10.0, 15.0, 16.0, 2.0, 3.0, 4.0],\n",
    "                             [3, 2, 3])\n",
    "    array([10.0, 15.5, 3.0])\n",
    "    \"\"\"\n"
   ]
  }
 ],
 "metadata": {
  "kernelspec": {
   "display_name": "Python 3",
   "language": "python",
   "name": "python3"
  },
  "language_info": {
   "codemirror_mode": {
    "name": "ipython",
    "version": 3
   },
   "file_extension": ".py",
   "mimetype": "text/x-python",
   "name": "python",
   "nbconvert_exporter": "python",
   "pygments_lexer": "ipython3",
   "version": "3.5.2"
  }
 },
 "nbformat": 4,
 "nbformat_minor": 1
}
