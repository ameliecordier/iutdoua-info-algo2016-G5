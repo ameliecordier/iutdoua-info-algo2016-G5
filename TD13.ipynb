{
 "cells": [
  {
   "cell_type": "markdown",
   "metadata": {},
   "source": [
    "2.1. Retourner l'indice de la dernière occurrence du minimum d'un tableau.\n",
    "\n",
    "2.2. Remplacer tous les éléments aux indices premiers par un 0.\n",
    "\n",
    "2.3. Soit un tableau de notes (floats entre 0.0 et 20.0) de taille N, et un tableau d'entiers de taille M. Faire la moyenne des notes du premier tableau en ne considérant que celles aux indices présents dans le second tableau. Pour cet exercice, vous écrirez les pré- et post-conditions. \n",
    "\n",
    "2.4. Inverser un tableau.\n",
    "\n",
    "2.5. Rechercher l'indice de la nième occurrence d'une valeur dans un tableau. "
   ]
  },
  {
   "cell_type": "code",
   "execution_count": 6,
   "metadata": {
    "collapsed": false
   },
   "outputs": [
    {
     "name": "stdout",
     "output_type": "stream",
     "text": [
      "-1\n",
      "3\n",
      "4\n"
     ]
    }
   ],
   "source": [
    "import numpy as np\n",
    "t1 = np.array([])\n",
    "t2 = np.array([1, 2, -1, -6, 7])\n",
    "t3 = np.array([1, 2, -3, -1, -3])\n",
    "\n",
    "# Exercice 2.1\n",
    "def indiceLastMin(tab):\n",
    "    if len(tab)==0:\n",
    "        indice=-1\n",
    "    else :\n",
    "        minimum=tab[0]\n",
    "        i=1\n",
    "        while i<len(tab):\n",
    "            if tab[i]<=minimum:\n",
    "                indice=i\n",
    "                minimum=tab[i]\n",
    "            i=i+1\n",
    "    return indice\n",
    "\n",
    "print(indiceLastMin(t1))\n",
    "# -1\n",
    "print(indiceLastMin(t2))\n",
    "# 3\n",
    "print(indiceLastMin(t3)) \n",
    "# 4\n",
    "\n"
   ]
  },
  {
   "cell_type": "code",
   "execution_count": 7,
   "metadata": {
    "collapsed": false
   },
   "outputs": [
    {
     "name": "stdout",
     "output_type": "stream",
     "text": [
      "6.46666666667\n"
     ]
    }
   ],
   "source": [
    "import numpy as np\n",
    "\n",
    "def notes(N,M):\n",
    "    \"\"\"\n",
    "    entrée N : un tableau de flottants\n",
    "    entrée M : un tableau d'entiers\n",
    "    sortie moy: type float\n",
    "    précond: les deux tableaux sont non vides\n",
    "        aucun élément de M n'est supérieur à len(N)\n",
    "        Tous les éléments de M sont nuls ou positifs\n",
    "        Aucun élément de M n'apparait plusieurs fois\n",
    "        Les valeurs de N sont comprises entre \n",
    "        O.0 et 20.0\n",
    "        len(M)<=len(N)\n",
    "    postcond: moy est la moyenne des éléments de N se \n",
    "        trouvant aux indices définis par les éléments\n",
    "        de M\n",
    "    \"\"\"\n",
    "    i=0\n",
    "    s=0\n",
    "    while i<len(M):\n",
    "        s=s+N[M[i]]\n",
    "        i=i+1\n",
    "    moy=s/len(M)\n",
    "    return(moy)\n",
    "N=np.array([16.0, 3.2, 8.7, 5.2, 4.3,11.0])\n",
    "M=np.array([3,1,5])\n",
    "print(notes(N,M))"
   ]
  },
  {
   "cell_type": "code",
   "execution_count": 9,
   "metadata": {
    "collapsed": false
   },
   "outputs": [
    {
     "name": "stdout",
     "output_type": "stream",
     "text": [
      "[2, 3, 4, 5, 6]\n",
      "[6, 5, 4, 3, 2]\n"
     ]
    }
   ],
   "source": [
    "def inverserTableau(tab):\n",
    "    for i in range (len(tab)//2):\n",
    "        tab[i],tab[len(tab)-1-i]=tab[len(tab)-i-1],tab[i]\n",
    "        # temp = tab[i]\n",
    "        # tab[i] = tab[len(tab)-1-i]\n",
    "        # tab[len(tab)-1-i] = temp\n",
    "\n",
    "tab=[2,3,4,5,6]\n",
    "print(tab)\n",
    "inverserTableau(tab)\n",
    "print(tab)\n",
    "    \n",
    "    \n"
   ]
  },
  {
   "cell_type": "code",
   "execution_count": 11,
   "metadata": {
    "collapsed": false
   },
   "outputs": [
    {
     "name": "stdout",
     "output_type": "stream",
     "text": [
      "1\n"
     ]
    }
   ],
   "source": [
    "def rechIndMini(tab, i, j):\n",
    "    \"\"\"\n",
    "    :entree-sortie: tab un tableau d'entiers\n",
    "    :entree i: indice de début de recherche (inclus)\n",
    "    :entree j: indice de fin de recherche (exclus)\n",
    "    :pre-cond: (j-i) > 1, i < j\n",
    "    :post-cond: retourne l'indice du minimum local\n",
    "                dans une \"tranche\" de tableau\n",
    "    \"\"\"\n",
    "    mini = i\n",
    "    for k in range(i+1, j):\n",
    "        if tab[k] < tab[mini]:\n",
    "            mini = k\n",
    "    return mini        \n",
    "    \n",
    "tabtest = np.array([1, 2, 4, 5, 3, 1, 6])\n",
    "print(rechIndMini(tabtest,1,5))\n"
   ]
  },
  {
   "cell_type": "code",
   "execution_count": null,
   "metadata": {
    "collapsed": true
   },
   "outputs": [],
   "source": []
  }
 ],
 "metadata": {
  "kernelspec": {
   "display_name": "Python 3",
   "language": "python",
   "name": "python3"
  },
  "language_info": {
   "codemirror_mode": {
    "name": "ipython",
    "version": 3
   },
   "file_extension": ".py",
   "mimetype": "text/x-python",
   "name": "python",
   "nbconvert_exporter": "python",
   "pygments_lexer": "ipython3",
   "version": "3.5.2"
  }
 },
 "nbformat": 4,
 "nbformat_minor": 1
}
