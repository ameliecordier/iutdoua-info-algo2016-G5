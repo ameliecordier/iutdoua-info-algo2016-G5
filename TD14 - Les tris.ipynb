{
 "cells": [
  {
   "cell_type": "code",
   "execution_count": 2,
   "metadata": {
    "collapsed": false
   },
   "outputs": [
    {
     "name": "stdout",
     "output_type": "stream",
     "text": [
      "[ 16.5  13.   11.5]\n"
     ]
    }
   ],
   "source": [
    "# Correction de l'exo sur les moyennes\n",
    "import numpy as np\n",
    "\n",
    "def groupemoy(ent, grp) :\n",
    "    prec = 0\n",
    "    fin = np.empty(len(grp))\n",
    "    for j in range(len(grp)) :\n",
    "        moy = 0\n",
    "        for i in range(prec, prec + grp[j]) :\n",
    "            moy += ent[i]\n",
    "        fin[j] = moy/grp[j]\n",
    "        prec = prec + grp[j]\n",
    "    return(fin)\n",
    "\n",
    "tnotes = np.array([15, 18, 20, 5, 14, 11, 12])\n",
    "tgrp = np.array([2, 3, 2])\n",
    "\n",
    "print(groupemoy(tnotes, tgrp))"
   ]
  },
  {
   "cell_type": "code",
   "execution_count": 4,
   "metadata": {
    "collapsed": false
   },
   "outputs": [
    {
     "name": "stdout",
     "output_type": "stream",
     "text": [
      "True\n",
      "True\n",
      "[0 1 2 3 4 5 8]\n"
     ]
    }
   ],
   "source": [
    "def rechercheMin(tab, i, j):\n",
    "    \"\"\"\n",
    "    :entree-sortie tab: un tableau d'entiers\n",
    "    :entrees i, j: indices bornant la recherche (i inclus, j exclus)\n",
    "    :pre-cond: i < j\n",
    "    :post-cond: retourne l'indice du minimum d'une section de tableau\n",
    "                comprise entre i inclus et j exclus\n",
    "    \"\"\"\n",
    "    mini = tab[i]\n",
    "    indmini = i\n",
    "    for indice in range (i,j):\n",
    "        if tab[indice]<mini:\n",
    "            mini = tab[indice]\n",
    "            indmini = indice\n",
    "    return indmini\n",
    "\n",
    "def tri(tab):\n",
    "    \n",
    "    for a in range(len(tab)-1):\n",
    "        var = rechercheMin(tab, a, len(tab))\n",
    "        tab[a], tab[var] = tab[var], tab[a]\n",
    "    return tab\n",
    "\n",
    "tabtest = np.array([8, 5, 2, 3, 1, 0, 4])\n",
    "print(rechercheMin(tabtest, 2, 5) == 4)\n",
    "print(rechercheMin(tabtest, 2, 6) == 5)\n",
    "print(tri(tabtest))"
   ]
  },
  {
   "cell_type": "code",
   "execution_count": null,
   "metadata": {
    "collapsed": false
   },
   "outputs": [],
   "source": [
    "def findMin(tab, i, j):\n",
    "    mini = i\n",
    "    for k in range(i,j):\n",
    "        if(tab[k] < tab[mini]):\n",
    "            mini = k\n",
    "    return mini\n",
    "\n",
    "def swap(tab, a, b):\n",
    "    c = tab[a]\n",
    "    tab[a] = tab[b]\n",
    "    tab[b] = c\n",
    "    \n",
    "def tri(tab):\n",
    "    if len(tab) > 1:\n",
    "        swap(tab, 0, findMin(tab, 0, len(tab)))\n",
    "        tri(tab[1:])\n",
    "        \n",
    "t1 = np.array([1,87,4,0,-3,42,69])\n",
    "tri(t1)\n",
    "print(t1)"
   ]
  },
  {
   "cell_type": "code",
   "execution_count": null,
   "metadata": {
    "collapsed": true
   },
   "outputs": [],
   "source": []
  }
 ],
 "metadata": {
  "kernelspec": {
   "display_name": "Python 3",
   "language": "python",
   "name": "python3"
  },
  "language_info": {
   "codemirror_mode": {
    "name": "ipython",
    "version": 3
   },
   "file_extension": ".py",
   "mimetype": "text/x-python",
   "name": "python",
   "nbconvert_exporter": "python",
   "pygments_lexer": "ipython3",
   "version": "3.5.2"
  }
 },
 "nbformat": 4,
 "nbformat_minor": 1
}
