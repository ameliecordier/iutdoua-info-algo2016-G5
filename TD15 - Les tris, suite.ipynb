{
 "cells": [
  {
   "cell_type": "code",
   "execution_count": 23,
   "metadata": {
    "collapsed": false,
    "scrolled": true
   },
   "outputs": [],
   "source": [
    "import numpy as np"
   ]
  },
  {
   "cell_type": "code",
   "execution_count": 34,
   "metadata": {
    "collapsed": true
   },
   "outputs": [],
   "source": [
    "tvide = np.array([])\n",
    "trand = np.array([9, 3, 1, 8, 4, 2, 5, 7, 6, 0])\n",
    "tinv = np.array([9, 8, 7, 6, 5, 4, 3, 2, 1, 0])"
   ]
  },
  {
   "cell_type": "code",
   "execution_count": 25,
   "metadata": {
    "collapsed": false
   },
   "outputs": [
    {
     "name": "stdout",
     "output_type": "stream",
     "text": [
      "[9 3 1 8 4 2 5 7 6 0]\n",
      "[0 1 2 3 4 5 6 7 8 9]\n",
      "[]\n",
      "[]\n",
      "[9 8 7 6 5 4 3 2 1 0]\n",
      "[0 1 2 3 4 5 6 7 8 9]\n"
     ]
    }
   ],
   "source": [
    "# Algorithmes utilitaires\n",
    "def rechercheMin(tab, i, j):\n",
    "    \"\"\"\n",
    "    :entree-sortie tab: un tableau d'entiers\n",
    "    :entrees i, j: indices bornant la recherche (i inclus, j exclus)\n",
    "    :pre-cond: i < j\n",
    "    :post-cond: retourne l'indice du minimum d'une section de tableau\n",
    "                comprise entre i inclus et j exclus\n",
    "    \"\"\"\n",
    "    mini = tab[i]\n",
    "    indmini = i\n",
    "    for indice in range (i,j):\n",
    "        if tab[indice]<mini:\n",
    "            mini = tab[indice]\n",
    "            indmini = indice\n",
    "    return indmini\n",
    "\n",
    "def decalageAdroite(tab, i, j):\n",
    "    \n",
    "    for k in range (j,i,-1):\n",
    "        tab [k]=tab[k-1]\n",
    "    \n",
    "# Tri par insertion avec recherche du minimum et décalage à droite    \n",
    "def triinsertion(tab):\n",
    "    \n",
    "    for i in range (len(tab)):\n",
    "        indmini=rechercheMin(tab, i, len(tab))\n",
    "        valmini= tab[indmini]\n",
    "        decalageAdroite(tab, i, indmini)\n",
    "        tab[i]=valmini\n",
    "\n",
    "print(trand)\n",
    "triinsertion (trand)\n",
    "print (trand)\n",
    "print(tvide)\n",
    "triinsertion (tvide)\n",
    "print (tvide)\n",
    "print(tinv)\n",
    "triinsertion (tinv)\n",
    "print (trand)\n",
    "    "
   ]
  },
  {
   "cell_type": "code",
   "execution_count": 33,
   "metadata": {
    "collapsed": false
   },
   "outputs": [
    {
     "data": {
      "text/html": [
       "\n",
       "        <iframe\n",
       "            width=\"100%\"\n",
       "            height=\"350\"\n",
       "            src=\"http://pythontutor.com/iframe-embed.html#code=def%20rechercheMin%28tab%2C%20i%2C%20j%29%3A%0A%20%20%20%20mini%20%3D%20tab%5Bi%5D%0A%20%20%20%20indmini%20%3D%20i%0A%20%20%20%20for%20indice%20in%20range%20%28i%2Cj%29%3A%0A%20%20%20%20%20%20%20%20if%20tab%5Bindice%5D%3Cmini%3A%0A%20%20%20%20%20%20%20%20%20%20%20%20mini%20%3D%20tab%5Bindice%5D%0A%20%20%20%20%20%20%20%20%20%20%20%20indmini%20%3D%20indice%0A%20%20%20%20return%20indmini%0A%0Adef%20decalageAdroite%28tab%2C%20i%2C%20j%29%3A%0A%20%20%20%20for%20k%20in%20range%20%28j%2Ci%2C-1%29%3A%0A%20%20%20%20%20%20%20%20tab%20%5Bk%5D%3Dtab%5Bk-1%5D%0A%20%20%20%20%0Adef%20triinsertion%28tab%29%3A%20%20%20%20%0A%20%20%20%20for%20i%20in%20range%20%28len%28tab%29%29%3A%0A%20%20%20%20%20%20%20%20indmini%3DrechercheMin%28tab%2C%20i%2C%20len%28tab%29%29%0A%20%20%20%20%20%20%20%20valmini%3D%20tab%5Bindmini%5D%0A%20%20%20%20%20%20%20%20decalageAdroite%28tab%2C%20i%2C%20indmini%29%0A%20%20%20%20%20%20%20%20tab%5Bi%5D%3Dvalmini%0A%0At%20%3D%20%5B1%2C%202%2C%206%2C%202%2C%200%2C%203%2C%207%2C%209%2C%204%5D%0Atriinsertion%28t%29&origin=opt-frontend.js&cumulative=false&heapPrimitives=false&textReferences=false&py=3&rawInputLstJSON=%5B%5D&curInstr=0&codeDivWidth=50%25&codeDivHeight=100%25\"\n",
       "            frameborder=\"0\"\n",
       "            allowfullscreen\n",
       "        ></iframe>\n",
       "        "
      ],
      "text/plain": [
       "<IPython.lib.display.IFrame at 0x7f0810778978>"
      ]
     },
     "metadata": {},
     "output_type": "display_data"
    }
   ],
   "source": [
    "%%tutor --lang python3 \n",
    "def rechercheMin(tab, i, j):\n",
    "    mini = tab[i]\n",
    "    indmini = i\n",
    "    for indice in range (i,j):\n",
    "        if tab[indice]<mini:\n",
    "            mini = tab[indice]\n",
    "            indmini = indice\n",
    "    return indmini\n",
    "\n",
    "def decalageAdroite(tab, i, j):\n",
    "    for k in range (j,i,-1):\n",
    "        tab [k]=tab[k-1]\n",
    "    \n",
    "def triinsertion(tab):    \n",
    "    for i in range (len(tab)):\n",
    "        indmini=rechercheMin(tab, i, len(tab))\n",
    "        valmini= tab[indmini]\n",
    "        decalageAdroite(tab, i, indmini)\n",
    "        tab[i]=valmini\n",
    "\n",
    "t = [1, 2, 6, 2, 0, 3, 7, 9, 4]\n",
    "triinsertion(t)"
   ]
  },
  {
   "cell_type": "code",
   "execution_count": 38,
   "metadata": {
    "collapsed": false
   },
   "outputs": [
    {
     "name": "stdout",
     "output_type": "stream",
     "text": [
      "[]\n",
      "[9 3 1 8 4 2 5 7 6 0]\n",
      "[9 8 7 6 5 4 3 2 1 0]\n",
      "[]\n",
      "[0 1 2 3 4 5 6 7 8 9]\n",
      "[0 1 2 3 4 5 6 7 8 9]\n"
     ]
    }
   ],
   "source": [
    "tvide = np.array([])\n",
    "trand = np.array([9, 3, 1, 8, 4, 2, 5, 7, 6, 0])\n",
    "tinv = np.array([9, 8, 7, 6, 5, 4, 3, 2, 1, 0])\n",
    "\n",
    "def triInserBis(tab):\n",
    "    for i in range (1,len(tab)):\n",
    "        for j in range(i):\n",
    "            if tab[i] < tab[j]:\n",
    "                temp = tab[i]\n",
    "                decalageAdroite(tab,j,i)\n",
    "                tab[j] = temp\n",
    "                \n",
    "print(tvide)\n",
    "print(trand)\n",
    "print(tinv)\n",
    "triInserBis(tvide)\n",
    "triInserBis(trand)\n",
    "triInserBis(tinv)\n",
    "print(tvide)\n",
    "print(trand)\n",
    "print(tinv)"
   ]
  },
  {
   "cell_type": "code",
   "execution_count": 41,
   "metadata": {
    "collapsed": false
   },
   "outputs": [
    {
     "data": {
      "text/plain": [
       "(0, False)"
      ]
     },
     "execution_count": 41,
     "metadata": {},
     "output_type": "execute_result"
    }
   ],
   "source": [
    "def estPresentDansTab(tab, val):\n",
    "    '''\n",
    "    :entree-sortie tab: un tableau d'entiers\n",
    "    :entree val: int\n",
    "    :sortie present: booléen\n",
    "    :sortie nbOcc: int\n",
    "    :post-cond: retourne present = False si la valeur n'est pas présente \n",
    "                dans le tableau et True si elle l'est.\n",
    "                retourne également le nombre d'occurrences de la valeur\n",
    "                dans le tableau \n",
    "    '''\n",
    "    present=False\n",
    "    compteur=0\n",
    "    for i in range(len(tab)):\n",
    "        if(tab[i]==val):\n",
    "            compteur=compteur+1\n",
    "            present=True\n",
    "            \n",
    "    return compteur,present\n",
    "\n",
    "tabtest=np.array([1,2,7,3,1])\n",
    "estPresentDansTab(tabtest,8)"
   ]
  },
  {
   "cell_type": "code",
   "execution_count": null,
   "metadata": {
    "collapsed": true
   },
   "outputs": [],
   "source": []
  }
 ],
 "metadata": {
  "kernelspec": {
   "display_name": "Python 3",
   "language": "python",
   "name": "python3"
  },
  "language_info": {
   "codemirror_mode": {
    "name": "ipython",
    "version": 3
   },
   "file_extension": ".py",
   "mimetype": "text/x-python",
   "name": "python",
   "nbconvert_exporter": "python",
   "pygments_lexer": "ipython3",
   "version": "3.5.2"
  }
 },
 "nbformat": 4,
 "nbformat_minor": 1
}
