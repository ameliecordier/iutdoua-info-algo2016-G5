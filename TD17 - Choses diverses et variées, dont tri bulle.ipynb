{
 "cells": [
  {
   "cell_type": "code",
   "execution_count": 3,
   "metadata": {
    "collapsed": false
   },
   "outputs": [
    {
     "name": "stdout",
     "output_type": "stream",
     "text": [
      "[5 2 9 6 2 6 1 6 5 6]\n"
     ]
    }
   ],
   "source": [
    "import numpy as np\n",
    "\n",
    "tableau = np.random.randint(10, size=(10))\n",
    "print(tableau)\n"
   ]
  },
  {
   "cell_type": "code",
   "execution_count": 6,
   "metadata": {
    "collapsed": false
   },
   "outputs": [
    {
     "name": "stdout",
     "output_type": "stream",
     "text": [
      "[1 2 2 5 5 6 6 6 6 9]\n",
      "[1, 2, 2, 5, 5, 6, 6, 6, 6, 9]\n"
     ]
    }
   ],
   "source": [
    "#Implémentation de l'algo de tri bulle avec un tableau ou une liste\n",
    "liste = [5, 2, 9, 6, 2, 6, 1, 6, 5, 6]\n",
    "\n",
    "def triBulle(tab):\n",
    "    \n",
    "    j = 0\n",
    "    i = 0\n",
    "    while i < len(tab):\n",
    "        modif = 0\n",
    "        while j < len(tab)-i-1:\n",
    "            if tab[j] > tab[j+1]:\n",
    "                tab[j],tab[j+1] = tab[j+1],tab[j]\n",
    "                modif = 1\n",
    "            j+=1\n",
    "        if modif == 0:\n",
    "            i = len(tab)\n",
    "        i+=1\n",
    "        j = 0\n",
    "    \n",
    "    \n",
    "triBulle(tableau)\n",
    "triBulle(liste)\n",
    "print(tableau)\n",
    "print(liste)"
   ]
  },
  {
   "cell_type": "code",
   "execution_count": 18,
   "metadata": {
    "collapsed": false
   },
   "outputs": [
    {
     "name": "stdout",
     "output_type": "stream",
     "text": [
      "10\n",
      "3\n",
      "[[0 0 0]\n",
      " [0 0 0]\n",
      " [0 0 0]\n",
      " [0 0 0]\n",
      " [0 0 0]\n",
      " [0 0 0]\n",
      " [0 0 0]\n",
      " [0 0 0]\n",
      " [0 0 0]\n",
      " [0 0 0]]\n",
      "[[3 6 0 3 2 6 7]\n",
      " [4 4 7 7 7 3 7]\n",
      " [4 8 9 8 7 8 8]\n",
      " [9 4 4 4 3 1 1]\n",
      " [9 9 0 5 6 1 1]]\n"
     ]
    }
   ],
   "source": [
    "tableau2D = np.zeros([10, 3], dtype='int')\n",
    "print(len(tableau2D))\n",
    "print(len(tableau2D[0]))\n",
    "\n",
    "tableau2Drand = np.random.randint(10, size=(5,7))\n",
    "print(tableau2D)\n",
    "print(tableau2Drand)"
   ]
  },
  {
   "cell_type": "code",
   "execution_count": 15,
   "metadata": {
    "collapsed": false
   },
   "outputs": [
    {
     "name": "stdout",
     "output_type": "stream",
     "text": [
      "[[ 0  8  0]\n",
      " [ 1  8  8]\n",
      " [ 2  8 16]\n",
      " [ 3  8 24]\n",
      " [ 4  8 32]\n",
      " [ 5  8 40]\n",
      " [ 6  8 48]\n",
      " [ 7  8 56]\n",
      " [ 8  8 64]\n",
      " [ 9  8 72]]\n"
     ]
    }
   ],
   "source": [
    "def mult_tab(n, tab):\n",
    "    for i in range(10):\n",
    "        tab[i][0] = i\n",
    "        tab[i][1] = n\n",
    "        tab[i][2] = i*n\n",
    "        \n",
    "mult_tab(8, tableau2D)\n",
    "print(tableau2D)"
   ]
  },
  {
   "cell_type": "code",
   "execution_count": 19,
   "metadata": {
    "collapsed": false
   },
   "outputs": [
    {
     "name": "stdout",
     "output_type": "stream",
     "text": [
      "[[3 6 0 3 2 6 7]\n",
      " [4 4 7 7 7 3 7]\n",
      " [4 8 9 8 7 8 8]\n",
      " [9 4 4 4 3 1 1]\n",
      " [9 9 0 5 6 1 1]]\n",
      "[[0 2 3 3 6 6 7]\n",
      " [3 4 4 7 7 7 7]\n",
      " [4 7 8 8 8 8 9]\n",
      " [1 1 3 4 4 4 9]\n",
      " [0 1 1 5 6 9 9]]\n"
     ]
    }
   ],
   "source": [
    "def triligne(tab):\n",
    "    for i in range (len(tab)):\n",
    "        triBulle(tab[i])\n",
    "print(tableau2Drand)    \n",
    "triligne(tableau2Drand)\n",
    "print(tableau2Drand)"
   ]
  }
 ],
 "metadata": {
  "kernelspec": {
   "display_name": "Python 3",
   "language": "python",
   "name": "python3"
  },
  "language_info": {
   "codemirror_mode": {
    "name": "ipython",
    "version": 3
   },
   "file_extension": ".py",
   "mimetype": "text/x-python",
   "name": "python",
   "nbconvert_exporter": "python",
   "pygments_lexer": "ipython3",
   "version": "3.5.2"
  }
 },
 "nbformat": 4,
 "nbformat_minor": 1
}
