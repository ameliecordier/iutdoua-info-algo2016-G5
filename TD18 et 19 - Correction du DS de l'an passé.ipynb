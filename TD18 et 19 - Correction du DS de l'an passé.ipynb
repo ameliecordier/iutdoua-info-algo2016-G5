{
 "cells": [
  {
   "cell_type": "code",
   "execution_count": 5,
   "metadata": {
    "collapsed": false
   },
   "outputs": [
    {
     "name": "stdout",
     "output_type": "stream",
     "text": [
      "True\n",
      "False\n",
      "True\n",
      "False\n",
      "True\n",
      "False\n"
     ]
    }
   ],
   "source": [
    "#Exercice 2 \n",
    "def estTrie(tab, imin, imax):\n",
    "    \n",
    "    if imin==imax:\n",
    "        return True\n",
    "    \n",
    "    if estTrie(tab, imin+1, imax) and tab[imin]<=tab[imin+1]:\n",
    "        return True\n",
    "    else:\n",
    "        return False\n",
    "    \n",
    "tableau =[1, 2,3,6,5]\n",
    "\n",
    "print(estTrie(tableau, 0,3))\n",
    "print(estTrie(tableau,0,4))\n",
    "\n",
    "def estTrie1(tab, imin, imax):\n",
    "    if imin==imax:\n",
    "        return True\n",
    "    if tab[imin]>tab[imin+1]:\n",
    "        return False\n",
    "    else:\n",
    "        return estTrie1(tab, imin + 1, imax)\n",
    "    \n",
    "print(estTrie1(tableau, 0,3))\n",
    "print(estTrie1(tableau,0,4))\n",
    "\n",
    "def isSort(tab, imin, imax):\n",
    "    if len(tab[imin:imax+1])>1:\n",
    "        if tab[imin] <= tab[imin+1]:\n",
    "            return isSort(tab, imin+1, imax)\n",
    "        return False\n",
    "    return True\n",
    "\n",
    "print(isSort(tableau, 0,3))\n",
    "print(isSort(tableau,0,4))"
   ]
  },
  {
   "cell_type": "code",
   "execution_count": 8,
   "metadata": {
    "collapsed": false
   },
   "outputs": [
    {
     "name": "stdout",
     "output_type": "stream",
     "text": [
      "(array([  1.,   4.,   7.,  11.,  20.,  26.]), array([  1. ,   2.3,   6.7,   8.9,  10.2,  56.8]))\n"
     ]
    }
   ],
   "source": [
    "import numpy as np\n",
    "def compresse(tab):\n",
    "    compteur = 0\n",
    "    j = 0\n",
    "    for i in range(len(tab)):\n",
    "        if tab[i] != 0:\n",
    "            compteur+=1\n",
    "    tind=np.zeros(compteur)\n",
    "    tval=np.zeros(compteur)\n",
    "    \n",
    "    for i in range (len(tab)):\n",
    "        if tab[i] != 0:\n",
    "            tind[j] = i\n",
    "            tval[j] = tab[i]\n",
    "            j+=1\n",
    "    return tind, tval\n",
    "            \n",
    "tab=[0,1,0,0,2.3,0,0,6.7,0,0,0,8.9,0,0,0,0,0,0,0,0,10.2,0,0,0,0,0,56.8,0,0,0,0,0,0,0,0,0,0]\n",
    "print(compresse(tab))\n"
   ]
  },
  {
   "cell_type": "code",
   "execution_count": 10,
   "metadata": {
    "collapsed": false
   },
   "outputs": [
    {
     "name": "stdout",
     "output_type": "stream",
     "text": [
      "([1, 4, 7, 11, 20, 26], [1, 2.3, 6.7, 8.9, 10.2, 56.8])\n"
     ]
    }
   ],
   "source": [
    "def compOpti(tab):\n",
    "    tind = []\n",
    "    tval = []\n",
    "    for i in range(len(tab)):\n",
    "        if tab[i] != 0:\n",
    "            tind.append(i)\n",
    "            tval.append(tab[i])\n",
    "    return tind, tval\n",
    "print(compOpti(tab))"
   ]
  },
  {
   "cell_type": "code",
   "execution_count": 13,
   "metadata": {
    "collapsed": false
   },
   "outputs": [
    {
     "name": "stdout",
     "output_type": "stream",
     "text": [
      "2\n",
      "-1\n"
     ]
    }
   ],
   "source": [
    "def findInd(tind, val, start, end):\n",
    "    if end-start <= 1:\n",
    "        return -1\n",
    "    elif tind[(start+end) // 2] == val:\n",
    "        return (start+end) // 2\n",
    "    else:\n",
    "        if val < tind[(start+end) // 2]:\n",
    "            return findInd(tind, val, start, end // 2)\n",
    "        else:\n",
    "            return findInd(tind, val, start + end // 2, end)\n",
    "        \n",
    "tind = [1, 3, 5, 8, 9]\n",
    "print(findInd(tind, 5, 0, len(tind)))\n",
    "print(findInd(tind, 18, 0, len(tind)))"
   ]
  },
  {
   "cell_type": "code",
   "execution_count": 15,
   "metadata": {
    "collapsed": false
   },
   "outputs": [
    {
     "name": "stdout",
     "output_type": "stream",
     "text": [
      "14\n",
      "0\n"
     ]
    }
   ],
   "source": [
    "def extraire_valeur(tind, tval, it):\n",
    "    result = 0\n",
    "    i = findInd(tind, it, 0, len(tind)-1)\n",
    "    if i != -1:\n",
    "        result = tval[i]\n",
    "    return result\n",
    "tind = [1, 3, 5, 7, 9]\n",
    "tval = [2, 6, 10, 14, 18]\n",
    "\n",
    "print(extraire_valeur(tind, tval, 7))\n",
    "print(extraire_valeur(tind, tval, 32))"
   ]
  }
 ],
 "metadata": {
  "kernelspec": {
   "display_name": "Python 3",
   "language": "python",
   "name": "python3"
  },
  "language_info": {
   "codemirror_mode": {
    "name": "ipython",
    "version": 3
   },
   "file_extension": ".py",
   "mimetype": "text/x-python",
   "name": "python",
   "nbconvert_exporter": "python",
   "pygments_lexer": "ipython3",
   "version": "3.5.2"
  }
 },
 "nbformat": 4,
 "nbformat_minor": 1
}
