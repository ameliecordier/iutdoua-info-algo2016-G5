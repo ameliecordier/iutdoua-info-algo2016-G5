{
 "cells": [
  {
   "cell_type": "markdown",
   "metadata": {},
   "source": [
    "**Question 1.** Écrire un algorithme qui permet de convertir un petit nombre en chiffres romains. "
   ]
  },
  {
   "cell_type": "markdown",
   "metadata": {},
   "source": [
    "Une chaîne de caractères doit toujours se situer entre guillemets. Python permet d'afficher plusieurs fois la même chaîne. On s'autorise cet outil du langage dans notre langage algorithmique. Ci-dessous des exemples. "
   ]
  },
  {
   "cell_type": "code",
   "execution_count": 25,
   "metadata": {
    "collapsed": false
   },
   "outputs": [
    {
     "name": "stdout",
     "output_type": "stream",
     "text": [
      "I\n"
     ]
    }
   ],
   "source": [
    "print(\"I\")"
   ]
  },
  {
   "cell_type": "code",
   "execution_count": 26,
   "metadata": {
    "collapsed": false
   },
   "outputs": [
    {
     "name": "stdout",
     "output_type": "stream",
     "text": [
      "III\n"
     ]
    }
   ],
   "source": [
    "print(3*\"I\")"
   ]
  },
  {
   "cell_type": "code",
   "execution_count": 27,
   "metadata": {
    "collapsed": false
   },
   "outputs": [
    {
     "name": "stdout",
     "output_type": "stream",
     "text": [
      "I\n",
      "II\n",
      "III\n",
      "IV\n",
      "V\n",
      "VI\n",
      "VII\n",
      "VIII\n",
      "IX\n",
      "X\n"
     ]
    }
   ],
   "source": [
    "def romain(a):\n",
    "    '''\n",
    "    entrée a : int\n",
    "    sortie n : string\n",
    "    pré-cond : 0<a<=10\n",
    "    post-cond : n est l'écriture en chiffres romains de a\n",
    "    '''\n",
    "    if a <= 3:\n",
    "        print(a*\"I\")\n",
    "    elif a==4:\n",
    "        print(\"IV\")\n",
    "    elif a <= 8:\n",
    "        print(\"V\"+(a-5)*\"I\")\n",
    "    else:\n",
    "        print((10-a)*\"I\"+\"X\")\n",
    "\n",
    "# Pour tester notre algo, on affiche \n",
    "# les nombres entre 1 et 10 (11 est exclu de l'intervalle.)        \n",
    "for i in range(1,11):\n",
    "    romain(i)"
   ]
  },
  {
   "cell_type": "markdown",
   "metadata": {},
   "source": [
    "**Question 2.** Écrire un algorithme qui détermine la note a mettre sur le bulletin d'un étudiant. Les seuils sont : 8, 10, 12. "
   ]
  },
  {
   "cell_type": "code",
   "execution_count": 28,
   "metadata": {
    "collapsed": false
   },
   "outputs": [
    {
     "name": "stdout",
     "output_type": "stream",
     "text": [
      "Recalé\n",
      "Retente ta chance !\n",
      "Admis\n",
      "Admis avec mention\n"
     ]
    }
   ],
   "source": [
    "def mention(n):\n",
    "    '''\n",
    "    :entree n : float\n",
    "    :pré-cond: 0<= n <= 20\n",
    "    :post-cond : affiche la mention de l'etudiant \n",
    "                 en fonction de sa note\n",
    "    '''\n",
    "    if n < 8:\n",
    "        print(\"Recalé\")\n",
    "    elif n < 10:\n",
    "        print(\"Retente ta chance !\")\n",
    "    elif n <12:\n",
    "        print(\"Admis\")\n",
    "    else:\n",
    "        print(\"Admis avec mention\")\n",
    "\n",
    "note(6)\n",
    "note(9)\n",
    "note(11)\n",
    "note(13)\n",
    "    "
   ]
  },
  {
   "cell_type": "markdown",
   "metadata": {},
   "source": [
    "**Question 3.** Proposer un algorithme qui calcule la moyenne de trois nombres."
   ]
  },
  {
   "cell_type": "code",
   "execution_count": 29,
   "metadata": {
    "collapsed": false
   },
   "outputs": [
    {
     "name": "stdout",
     "output_type": "stream",
     "text": [
      "9.0\n"
     ]
    }
   ],
   "source": [
    "def moyenne(a, b, c):\n",
    "    '''\n",
    "    entrees a, b, c : float\n",
    "    sortie m : float\n",
    "    pré-cond : a, b, c >= 0 et <=20 \n",
    "    post-cond : m est la moyenne des trois notes\n",
    "    '''\n",
    "    m =(a+b+c)/3\n",
    "    return(m)\n",
    "    \n",
    "\n",
    "r = moyenne(3, 5, 19)\n",
    "print(r)"
   ]
  },
  {
   "cell_type": "markdown",
   "metadata": {},
   "source": [
    "**Question 4.** Écrire un algorithme qui donne la moyenne et le bilan d'un étudiant étant donné trois notes entre 0 et 20."
   ]
  },
  {
   "cell_type": "code",
   "execution_count": 31,
   "metadata": {
    "collapsed": false
   },
   "outputs": [
    {
     "name": "stdout",
     "output_type": "stream",
     "text": [
      "Recalé\n"
     ]
    }
   ],
   "source": [
    "def bilan(a, b, c):\n",
    "    '''\n",
    "    entrees a, b, c : float\n",
    "    sortie m : float\n",
    "    pré-cond : a, b, c >= 0 et <=20 \n",
    "    post-cond : affiche la moyenne des trois notes et la mention \n",
    "                correspondant à cette moyenne\n",
    "    ''' \n",
    "    m = moyenne(a, b, c)\n",
    "    mention(m)\n",
    "    \n",
    "bilan(3,6,9)"
   ]
  },
  {
   "cell_type": "markdown",
   "metadata": {},
   "source": [
    "** ATTENTION ! À partir de maintenant, on fait la différence entre \"retourner\" et \"afficher\"... y compris lorsque l'on écrit les pré- et post- conditions !**"
   ]
  },
  {
   "cell_type": "markdown",
   "metadata": {},
   "source": [
    "**Question 5.** Compter le nombre de chiffres d'un nombre en base 10."
   ]
  },
  {
   "cell_type": "code",
   "execution_count": 34,
   "metadata": {
    "collapsed": false
   },
   "outputs": [
    {
     "name": "stdout",
     "output_type": "stream",
     "text": [
      "1\n",
      "1\n",
      "2\n",
      "3\n",
      "6\n"
     ]
    }
   ],
   "source": [
    "def compte_chiffres(n):\n",
    "    \"\"\"\n",
    "    :entrée n: int\n",
    "    :sortie c: int\n",
    "    :pré-cond: n ≥ 0\n",
    "    :post-cond: c est le nombre de chiffres dans l'écriture en base 10 de n\n",
    "    \"\"\"\n",
    "    c = 1\n",
    "    while n/(10**c) >= 1:\n",
    "        c = c + 1\n",
    "    return c\n",
    "\n",
    "print(compte_chiffres(0))\n",
    "print(compte_chiffres(9))\n",
    "print(compte_chiffres(45))\n",
    "print(compte_chiffres(123))\n",
    "print(compte_chiffres(116200))\n"
   ]
  },
  {
   "cell_type": "markdown",
   "metadata": {},
   "source": [
    "**Question 6.** Retourner la somme des chiffres d'un nombre en base 10."
   ]
  },
  {
   "cell_type": "code",
   "execution_count": 39,
   "metadata": {
    "collapsed": false
   },
   "outputs": [
    {
     "name": "stdout",
     "output_type": "stream",
     "text": [
      "0\n",
      "3\n",
      "6\n",
      "39\n",
      "8\n",
      "27\n"
     ]
    }
   ],
   "source": [
    "def somme_chiffres(n):\n",
    "    \"\"\"\n",
    "    :entrée n: int\n",
    "    :sortie s: int\n",
    "    :pré-cond: n > 0\n",
    "    :post-cond: s est la somme des chiffres dans l'écriture\n",
    "                en base 10 de n\n",
    "    \"\"\"\n",
    "    s = 0\n",
    "    while (n>0):\n",
    "        s+=n%10 # s= s + n%10\n",
    "        n=n//10\n",
    "    return s\n",
    "    \n",
    "    \n",
    "\n",
    "# Tests \n",
    "print(somme_chiffres(0))\n",
    "print(somme_chiffres(12))\n",
    "print(somme_chiffres(123))\n",
    "print(somme_chiffres(456789))\n",
    "print(somme_chiffres(17))\n",
    "print(somme_chiffres(999))"
   ]
  },
  {
   "cell_type": "code",
   "execution_count": 38,
   "metadata": {
    "collapsed": false
   },
   "outputs": [
    {
     "name": "stdout",
     "output_type": "stream",
     "text": [
      "3\n"
     ]
    }
   ],
   "source": [
    "print(123%10)"
   ]
  },
  {
   "cell_type": "code",
   "execution_count": null,
   "metadata": {
    "collapsed": true
   },
   "outputs": [],
   "source": []
  }
 ],
 "metadata": {
  "kernelspec": {
   "display_name": "Python 3",
   "language": "python",
   "name": "python3"
  },
  "language_info": {
   "codemirror_mode": {
    "name": "ipython",
    "version": 3
   },
   "file_extension": ".py",
   "mimetype": "text/x-python",
   "name": "python",
   "nbconvert_exporter": "python",
   "pygments_lexer": "ipython3",
   "version": "3.5.2"
  }
 },
 "nbformat": 4,
 "nbformat_minor": 1
}
