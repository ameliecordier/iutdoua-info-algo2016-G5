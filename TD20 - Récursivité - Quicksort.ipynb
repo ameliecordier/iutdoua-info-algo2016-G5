{
 "cells": [
  {
   "cell_type": "code",
   "execution_count": 1,
   "metadata": {
    "collapsed": false
   },
   "outputs": [
    {
     "name": "stdout",
     "output_type": "stream",
     "text": [
      "[1, 2, 3, 1, 0, 1, 3, 7, 8, 4, 9, 6]\n"
     ]
    }
   ],
   "source": [
    "# La fonction de partitionnement (non récursive)\n",
    "def partitionner(tab, imin, imax):\n",
    "    tab[imin], tab[imax] = tab[imax], tab[imin] # on choisit le premier comme pivot, et on le met à la fin\n",
    "    j = imin\n",
    "    for i in range(imin, imax):\n",
    "        if tab[i] <= tab[imax]:\n",
    "            tab[i], tab[j] = tab[j], tab[i]\n",
    "            j = j+1\n",
    "    tab[imax], tab[j] = tab[j], tab[imax]\n",
    "    return(j)\n",
    "\n",
    "# Test de notre fonction de partitionnement\n",
    "tableau = [3, 2, 4, 3, 1, 0, 6, 7, 8, 1, 9, 1]\n",
    "\n",
    "partitionner(tableau, 0, len(tableau)-1)\n",
    "print(tableau)\n",
    "# Le pivot est 3 (on choisit arbitrairement le premier élément comme pivot)\n",
    "# 3 est à sa place : tous les éléments plus petits ou égaux vont à sa gauche, les autre à droite. "
   ]
  },
  {
   "cell_type": "code",
   "execution_count": 2,
   "metadata": {
    "collapsed": false
   },
   "outputs": [
    {
     "name": "stdout",
     "output_type": "stream",
     "text": [
      "[0, 1, 1, 1, 2, 3, 3, 4, 6, 7, 8, 9]\n"
     ]
    }
   ],
   "source": [
    "# L'algorithme effectif de quicksort\n",
    "def quicksort(tab, imin, imax):\n",
    "    if imin < imax:\n",
    "        pivot = partitionner(tab, imin, imax)\n",
    "        quicksort(tab, imin, pivot-1)\n",
    "        quicksort(tab, pivot+1, imax)\n",
    "        \n",
    "quicksort(tableau,0, len(tableau) - 1)\n",
    "print(tableau)"
   ]
  },
  {
   "cell_type": "markdown",
   "metadata": {},
   "source": [
    "**Vous êtes vivement encouragés à tester cet algorithme avec Pythontutor pour voir comment il s'exécute...**"
   ]
  }
 ],
 "metadata": {
  "kernelspec": {
   "display_name": "Python 3",
   "language": "python",
   "name": "python3"
  },
  "language_info": {
   "codemirror_mode": {
    "name": "ipython",
    "version": 3
   },
   "file_extension": ".py",
   "mimetype": "text/x-python",
   "name": "python",
   "nbconvert_exporter": "python",
   "pygments_lexer": "ipython3",
   "version": "3.5.2"
  }
 },
 "nbformat": 4,
 "nbformat_minor": 1
}
