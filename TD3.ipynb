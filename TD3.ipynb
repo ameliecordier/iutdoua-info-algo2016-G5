{
 "cells": [
  {
   "cell_type": "markdown",
   "metadata": {},
   "source": [
    "**Question 1.** Compter le nombre d’occurences d’un chiffre dans un nombre exprimé en base 10."
   ]
  },
  {
   "cell_type": "code",
   "execution_count": 21,
   "metadata": {
    "collapsed": false
   },
   "outputs": [
    {
     "name": "stdout",
     "output_type": "stream",
     "text": [
      "2\n",
      "0\n"
     ]
    }
   ],
   "source": [
    "def nb_occurences(n, c) :\n",
    "    \"\"\"\n",
    "    :entrée n: int\n",
    "    :entrée c: int\n",
    "    :sortie s: int\n",
    "    :pré-cond: 0 < n\n",
    "               0 <= c <= 9\n",
    "    :post-cond: s est le nombre d'occurences de c\n",
    "    dans l'écriture décimale de n\n",
    "    \"\"\"\n",
    "\n",
    "    s = 0\n",
    "    while (n > 0):\n",
    "        if n%10 == c :\n",
    "            s = s+1\n",
    "        n = n // 10\n",
    "    return(s)\n",
    "\n",
    "print(nb_occurences(1231, 1))\n",
    "print(nb_occurences(1231, 7))"
   ]
  },
  {
   "cell_type": "markdown",
   "metadata": {},
   "source": [
    "**Question 2.** Compter le nombre de chiffres pairs dans l'écriture d'un nombre exprimé en base 10. Pour le corrigé, cf. la question 3. "
   ]
  },
  {
   "cell_type": "markdown",
   "metadata": {},
   "source": [
    "**Question 3.** Compter le nombre de chiffres pairs et de chiffres impairs dans l'écriture d'un nombre en base 10. "
   ]
  },
  {
   "cell_type": "code",
   "execution_count": 22,
   "metadata": {
    "collapsed": false
   },
   "outputs": [
    {
     "name": "stdout",
     "output_type": "stream",
     "text": [
      "(2, 2)\n",
      "(1, 3)\n",
      "(4, 2)\n"
     ]
    }
   ],
   "source": [
    "def chiffres_pair_impair(n):\n",
    "    '''entree n : int\n",
    "       sortie p: int, i : int\n",
    "       pre cond : le nombre choisi est en base 10 et strictement\n",
    "       supérieur à zéro\n",
    "       post cond : p et i affichent le nombre de chiffres pairs \n",
    "       impairs'''\n",
    "    p=0\n",
    "    i=0\n",
    "    while (n>0):\n",
    "        if(n%2)==0:\n",
    "            p = p+1\n",
    "        else:\n",
    "            i = i+1\n",
    "        n = n//10\n",
    "            \n",
    "    return (p,i)\n",
    "    \n",
    "print(chiffres_pair_impair(1234))\n",
    "print(chiffres_pair_impair(1459))\n",
    "print(chiffres_pair_impair(102140))"
   ]
  },
  {
   "cell_type": "markdown",
   "metadata": {},
   "source": [
    "**Question 4.** Déterminer le chiffre situé à un rang donné dans un nombre en base 10."
   ]
  },
  {
   "cell_type": "code",
   "execution_count": 23,
   "metadata": {
    "collapsed": false
   },
   "outputs": [
    {
     "name": "stdout",
     "output_type": "stream",
     "text": [
      "4\n",
      "2\n"
     ]
    }
   ],
   "source": [
    "def chiffre_au_rang(n, i):\n",
    "    \"\"\"\n",
    "    :entrée n: int\n",
    "    :entrée i: int\n",
    "    :sortie c: int\n",
    "    :pré-cond: n > 10ⁱ\n",
    "    :post-cond: c est le chiffre au rang r dans l'écriture de n en base 10\n",
    "                (cf. ci-dessous pour la définition du rang).\n",
    "    \"\"\"\n",
    "    n = n//10**i\n",
    "    c = n%10\n",
    "    return(c)\n",
    "\n",
    "print(chiffre_au_rang(1234567890, 6))\n",
    "print(chiffre_au_rang(12340, 3))\n"
   ]
  },
  {
   "cell_type": "markdown",
   "metadata": {},
   "source": [
    "En route pour l'exploration des chaînes de caractères... "
   ]
  },
  {
   "cell_type": "code",
   "execution_count": 24,
   "metadata": {
    "collapsed": false
   },
   "outputs": [
    {
     "name": "stdout",
     "output_type": "stream",
     "text": [
      "M\n",
      "a\n",
      " \n",
      "c\n",
      "h\n",
      "a\n",
      "î\n",
      "n\n",
      "e\n",
      " \n",
      "d\n",
      "e\n",
      " \n",
      "t\n",
      "r\n",
      "u\n",
      "c\n",
      "s\n",
      "18\n"
     ]
    }
   ],
   "source": [
    "chaine = \"Ma chaîne de trucs\"\n",
    "compteur = 0\n",
    "for c in chaine:\n",
    "    compteur = compteur + 1\n",
    "    print(c)\n",
    "print(compteur)"
   ]
  },
  {
   "cell_type": "markdown",
   "metadata": {},
   "source": [
    "**Question 5.** Calculer le nombre d'occurences d'un caractère dans un mot. "
   ]
  },
  {
   "cell_type": "markdown",
   "metadata": {},
   "source": [
    "Solution avec un for... "
   ]
  },
  {
   "cell_type": "code",
   "execution_count": 25,
   "metadata": {
    "collapsed": false
   },
   "outputs": [
    {
     "name": "stdout",
     "output_type": "stream",
     "text": [
      "2\n",
      "5\n",
      "0\n"
     ]
    }
   ],
   "source": [
    "def nb_occurence(mot,carac):\n",
    "    nombre = 0\n",
    "    for i in mot:\n",
    "        if i == carac:\n",
    "            nombre = nombre + 1\n",
    "    return(nombre)\n",
    "\n",
    "print(nb_occurence(\"patate\", \"a\"))\n",
    "print(nb_occurence(\"abracadabra\", \"a\"))\n",
    "print(nb_occurence(\"aaaaaaaaaaaaaaaaaaaaaaaaaaaaaaaaa\", \"h\"))"
   ]
  },
  {
   "cell_type": "markdown",
   "metadata": {},
   "source": [
    "Solution avec un while..."
   ]
  },
  {
   "cell_type": "code",
   "execution_count": 26,
   "metadata": {
    "collapsed": false
   },
   "outputs": [
    {
     "name": "stdout",
     "output_type": "stream",
     "text": [
      "2\n",
      "2\n"
     ]
    }
   ],
   "source": [
    "def compte_car(s, c):\n",
    "    n = 0\n",
    "    compteur = 0\n",
    "    while compteur < len(s):\n",
    "        if c == s[compteur]:\n",
    "            n = n + 1\n",
    "        compteur = compteur + 1\n",
    "    return n\n",
    "\n",
    "print(compte_car(\"Chocolatine\", \"o\"))\n",
    "print(compte_car(\"lol\", \"l\"))"
   ]
  },
  {
   "cell_type": "markdown",
   "metadata": {},
   "source": [
    "Attention... jeudi matin, petit contrôle !"
   ]
  },
  {
   "cell_type": "code",
   "execution_count": null,
   "metadata": {
    "collapsed": true
   },
   "outputs": [],
   "source": []
  }
 ],
 "metadata": {
  "kernelspec": {
   "display_name": "Python 3",
   "language": "python",
   "name": "python3"
  },
  "language_info": {
   "codemirror_mode": {
    "name": "ipython",
    "version": 3
   },
   "file_extension": ".py",
   "mimetype": "text/x-python",
   "name": "python",
   "nbconvert_exporter": "python",
   "pygments_lexer": "ipython3",
   "version": "3.5.2"
  }
 },
 "nbformat": 4,
 "nbformat_minor": 1
}
