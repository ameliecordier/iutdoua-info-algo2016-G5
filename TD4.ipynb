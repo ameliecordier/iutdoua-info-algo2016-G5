{
 "cells": [
  {
   "cell_type": "markdown",
   "metadata": {},
   "source": [
    "Nous avons commencé par une petite interrogation... "
   ]
  },
  {
   "cell_type": "markdown",
   "metadata": {},
   "source": [
    "**Exercices mystères.** Que font les algorithmes suivants ?"
   ]
  },
  {
   "cell_type": "code",
   "execution_count": 6,
   "metadata": {
    "collapsed": false
   },
   "outputs": [
    {
     "name": "stdout",
     "output_type": "stream",
     "text": [
      "0 11\n",
      "1 34\n",
      "2 17\n",
      "3 52\n",
      "4 26\n",
      "5 13\n",
      "6 40\n",
      "7 20\n",
      "8 10\n",
      "9 5\n"
     ]
    }
   ],
   "source": [
    "x = 11\n",
    "n = 0\n",
    "while n < 10:\n",
    "    print(n, x)\n",
    "    if x % 2 == 0:\n",
    "        x = x // 2\n",
    "    else:\n",
    "        x = 3 * x + 1\n",
    "    n = n + 1"
   ]
  },
  {
   "cell_type": "code",
   "execution_count": 7,
   "metadata": {
    "collapsed": false
   },
   "outputs": [
    {
     "name": "stdout",
     "output_type": "stream",
     "text": [
      "ca roule ?\n"
     ]
    }
   ],
   "source": [
    "ch = \"? eluor ac\"\n",
    "lc = len(ch)\n",
    "i = lc - 1 \n",
    "sortie = \"\"\n",
    "while i >= 0:\n",
    "    sortie = sortie + ch[i]\n",
    "    i = i - 1\n",
    "print(sortie)"
   ]
  },
  {
   "cell_type": "code",
   "execution_count": 8,
   "metadata": {
    "collapsed": false
   },
   "outputs": [
    {
     "name": "stdout",
     "output_type": "stream",
     "text": [
      "1\n",
      "2\n",
      "3\n",
      "5\n",
      "8\n",
      "13\n",
      "21\n",
      "34\n",
      "55\n",
      "89\n",
      "144\n",
      "233\n",
      "377\n",
      "610\n",
      "987\n"
     ]
    }
   ],
   "source": [
    "a, b, c = 1, 1, 1             \n",
    "                              \n",
    "print(1)                       \n",
    "while c<15:                   \n",
    "    a, b, c = b, a+b, c+1\n",
    "    print(b)"
   ]
  },
  {
   "cell_type": "code",
   "execution_count": 9,
   "metadata": {
    "collapsed": false
   },
   "outputs": [
    {
     "name": "stdout",
     "output_type": "stream",
     "text": [
      "1\n",
      "2\n",
      "4\n",
      "8\n",
      "16\n",
      "32\n",
      "64\n",
      "128\n",
      "256\n",
      "512\n",
      "1024\n",
      "2048\n",
      "4096\n",
      "8192\n",
      "16384\n"
     ]
    }
   ],
   "source": [
    "a, b, c = 1, 1, 1             \n",
    "                              \n",
    "print(1)                       \n",
    "while c<15:                   \n",
    "    a = b\n",
    "    b = a+b\n",
    "    c = c+1\n",
    "    print(b)"
   ]
  },
  {
   "cell_type": "markdown",
   "metadata": {},
   "source": [
    "**Dessinons des formes**. "
   ]
  },
  {
   "cell_type": "markdown",
   "metadata": {},
   "source": [
    "F1. Afficher un rectangle étant données une largeur et une hauteur. "
   ]
  },
  {
   "cell_type": "code",
   "execution_count": 13,
   "metadata": {
    "collapsed": false
   },
   "outputs": [
    {
     "name": "stdout",
     "output_type": "stream",
     "text": [
      "*****\n",
      "*****\n",
      "*****\n",
      "*****\n",
      "*****\n",
      "*****\n",
      "\n",
      "***\n",
      "***\n",
      "***\n",
      "***\n",
      "***\n",
      "***\n"
     ]
    }
   ],
   "source": [
    "def afficherRect(l, h):\n",
    "    \"\"\"\n",
    "    Entrées : l,h : int\n",
    "    Sortie : N/A (on affiche à l'écran)\n",
    "    Pré-cond : l,h > 0\n",
    "    Post-cond : L'algo affiche un rectangle en ASCII art \n",
    "                (c'est vite dit) de hauteur h et\n",
    "                de longueur l\n",
    "    \"\"\"\n",
    "    s = \"\"\n",
    "    for i in range(h):\n",
    "        for a in range(l):\n",
    "            s += \"*\"\n",
    "        print(s)\n",
    "        s = \"\"\n",
    "    \n",
    "afficherRect(5, 6)\n",
    "\n",
    "def afficherRectBis(l,h) :\n",
    "    \"\"\"\n",
    "    idem\n",
    "    \"\"\"\n",
    "    for j in range(h):\n",
    "        print(\"*\"*l)\n",
    "\n",
    "print(\"\") # sert juste à distinguer les deux affichages\n",
    "\n",
    "afficherRectBis(3,6)"
   ]
  },
  {
   "cell_type": "markdown",
   "metadata": {},
   "source": [
    "**F2.** Afficher un triangle selon une largeur (celle de la base)."
   ]
  },
  {
   "cell_type": "code",
   "execution_count": 15,
   "metadata": {
    "collapsed": false
   },
   "outputs": [
    {
     "name": "stdout",
     "output_type": "stream",
     "text": [
      "*\n",
      "**\n",
      "***\n",
      "****\n"
     ]
    }
   ],
   "source": [
    "def afficherTri(l):\n",
    "    \"\"\"\n",
    "    :entrée l: entier\n",
    "    :sortie: N/A\n",
    "    :précond: l>0\n",
    "    :postcond: affiche le triangle rectangle isocèle de base l\n",
    "    \"\"\"\n",
    "    \n",
    "    for i in range(l):\n",
    "        print(\"*\"*(i+1))\n",
    "\n",
    "afficherTri(4)"
   ]
  },
  {
   "cell_type": "code",
   "execution_count": 17,
   "metadata": {
    "collapsed": false
   },
   "outputs": [
    {
     "name": "stdout",
     "output_type": "stream",
     "text": [
      "++++++\n",
      "   +++\n"
     ]
    }
   ],
   "source": [
    "print(6*\"+\")\n",
    "print(3*\" \"+3*\"+\")"
   ]
  },
  {
   "cell_type": "code",
   "execution_count": null,
   "metadata": {
    "collapsed": true
   },
   "outputs": [],
   "source": []
  }
 ],
 "metadata": {
  "kernelspec": {
   "display_name": "Python 3",
   "language": "python",
   "name": "python3"
  },
  "language_info": {
   "codemirror_mode": {
    "name": "ipython",
    "version": 3
   },
   "file_extension": ".py",
   "mimetype": "text/x-python",
   "name": "python",
   "nbconvert_exporter": "python",
   "pygments_lexer": "ipython3",
   "version": "3.5.2"
  }
 },
 "nbformat": 4,
 "nbformat_minor": 1
}
