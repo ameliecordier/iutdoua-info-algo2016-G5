{
 "cells": [
  {
   "cell_type": "markdown",
   "metadata": {},
   "source": [
    "**Question 1.** Afficher une croix (un \"plus\"). Ci-dessous : solution avec un for, puis avec un while. "
   ]
  },
  {
   "cell_type": "code",
   "execution_count": 2,
   "metadata": {
    "collapsed": false
   },
   "outputs": [
    {
     "name": "stdout",
     "output_type": "stream",
     "text": [
      "..X..\n",
      "..X..\n",
      "..X..\n",
      "XXXXX\n",
      "..X..\n",
      "..X..\n",
      "..X..\n",
      "  \n",
      "PPPXPPP\n",
      "PPPXPPP\n",
      "PPPXPPP\n",
      "PPPXPPP\n",
      "XXXXXX\n",
      "PPPXPPP\n",
      "PPPXPPP\n",
      "PPPXPPP\n"
     ]
    }
   ],
   "source": [
    "def afficherCroix(l,h,c1,c2):\n",
    "    '''\n",
    "    :entrée l, h: int\n",
    "    :entrée c1,c2: string\n",
    "    :sortie: aucune\n",
    "    :pré-cond: l et h sont impairs. Si on veut un affichage symétrique, il faut que len(c1)==len(c2)\n",
    "    :post-cond: l'algorithme affiche une croix\n",
    "    '''\n",
    "    for i in range(h):\n",
    "        if i == h//2:\n",
    "            print(c1*l)\n",
    "        else:\n",
    "            print(c2*(l//2)+c1+c2*(l//2))\n",
    "            \n",
    "afficherCroix(5,7,\"X\",\".\")\n",
    "print(\"  \")\n",
    "afficherCroix(6,8,\"X\",\"P\") #juste pour se convaincre que ça fonctionne mal avec des valeurs paires"
   ]
  },
  {
   "cell_type": "code",
   "execution_count": 3,
   "metadata": {
    "collapsed": false
   },
   "outputs": [
    {
     "name": "stdout",
     "output_type": "stream",
     "text": [
      "..X..\n",
      "..X..\n",
      "..X..\n",
      "XXXXX\n",
      "..X..\n",
      "..X..\n",
      "..X..\n"
     ]
    }
   ],
   "source": [
    "def afficherCroixBis(l,h,c1,c2):\n",
    "    '''\n",
    "    :entrée l, h: int\n",
    "    :entrée c1,c2: string\n",
    "    :pré-cond: l et h sont impairs\n",
    "    :post-cond: L'algorithme affiche une croix\n",
    "    '''\n",
    "    ligne = 0\n",
    "    while ligne < h:\n",
    "        if ligne == h//2:\n",
    "            print(c1*l)\n",
    "        else:\n",
    "            print(c2*(l//2)+c1+c2*(l//2))\n",
    "        ligne = ligne + 1\n",
    "            \n",
    "afficherCroixBis(5,7,\"X\",\".\")"
   ]
  },
  {
   "cell_type": "markdown",
   "metadata": {},
   "source": [
    "**Question 2.** Afficher un losange."
   ]
  },
  {
   "cell_type": "code",
   "execution_count": 8,
   "metadata": {
    "collapsed": false
   },
   "outputs": [
    {
     "name": "stdout",
     "output_type": "stream",
     "text": [
      "~~~~#~~~~\n",
      "~~~###~~~\n",
      "~~#####~~\n",
      "~#######~\n",
      "#########\n",
      "~#######~\n",
      "~~#####~~\n",
      "~~~###~~~\n",
      "~~~~#~~~~\n",
      "\n",
      "  o  \n",
      " ooo \n",
      "ooooo\n",
      " ooo \n",
      "  o  \n"
     ]
    }
   ],
   "source": [
    "def losange(h, c1, c2):\n",
    "    '''\n",
    "    :entrée h : int\n",
    "    :entrées c1, c2: char\n",
    "    :pré-Cond: h est un nombre impair\n",
    "    :post-Cond: l'algo dessine un losange\n",
    "    '''\n",
    "    m = h//2\n",
    "    for i in range(m + 1):\n",
    "        print((c1*(m-i))+(c2*(i*2+1)) + (c1*(m-i)))\n",
    "    for a in range(m):\n",
    "        print(c1*(a+1) + (c2*(h-2 - a*2)) + c1*(a+1))\n",
    "        \n",
    "losange(9, \"~\", \"#\")\n",
    "print(\"\")\n",
    "losange(5, \" \", \"o\")\n"
   ]
  },
  {
   "cell_type": "markdown",
   "metadata": {},
   "source": [
    "**Question 3.** Que font les algorithmes suivant ? "
   ]
  },
  {
   "cell_type": "code",
   "execution_count": 5,
   "metadata": {
    "collapsed": false
   },
   "outputs": [],
   "source": [
    "def mystere(a, b, c, d):\n",
    "    '''\n",
    "    entrees a, b: int\n",
    "    entrees c, d: char\n",
    "    sortie : n/a\n",
    "    post-cond : affichage d'une forme mystère à l'écran\n",
    "    '''\n",
    "    for i in range(a):\n",
    "        e = c + d\n",
    "        print(b*e)\n"
   ]
  },
  {
   "cell_type": "code",
   "execution_count": 6,
   "metadata": {
    "collapsed": false
   },
   "outputs": [
    {
     "name": "stdout",
     "output_type": "stream",
     "text": [
      "xoxoxoxoxoxoxo\n",
      "oxoxoxoxoxoxox\n",
      "xoxoxoxoxoxoxo\n",
      "oxoxoxoxoxoxox\n",
      "xoxoxoxoxoxoxo\n"
     ]
    }
   ],
   "source": [
    "def mystere_bis(a, b, c, d):\n",
    "    '''\n",
    "    entrees a, b: int\n",
    "    entrees c, d: char\n",
    "    sortie : n/a\n",
    "    post-cond : affichage d'une forme mystère à l'écran\n",
    "    '''\n",
    "    for i in range(a):\n",
    "        if i % 2 == 0:\n",
    "            e = c + d\n",
    "            print(b*e)\n",
    "        else:\n",
    "            e = d + c\n",
    "            print(b*e)\n",
    "            \n",
    "mystere_bis(5,7,\"x\", \"o\")"
   ]
  }
 ],
 "metadata": {
  "kernelspec": {
   "display_name": "Python 3",
   "language": "python",
   "name": "python3"
  },
  "language_info": {
   "codemirror_mode": {
    "name": "ipython",
    "version": 3
   },
   "file_extension": ".py",
   "mimetype": "text/x-python",
   "name": "python",
   "nbconvert_exporter": "python",
   "pygments_lexer": "ipython3",
   "version": "3.5.2"
  }
 },
 "nbformat": 4,
 "nbformat_minor": 1
}
