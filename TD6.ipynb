{
 "cells": [
  {
   "cell_type": "markdown",
   "metadata": {},
   "source": [
    "Nous avons commencé par un petit contrôle sur le dessin des formes. "
   ]
  },
  {
   "cell_type": "markdown",
   "metadata": {},
   "source": [
    "**Question 1.** Gestion des entrées utilisateur."
   ]
  },
  {
   "cell_type": "code",
   "execution_count": 2,
   "metadata": {
    "collapsed": false
   },
   "outputs": [
    {
     "name": "stdout",
     "output_type": "stream",
     "text": [
      "Entrez un nombre\n",
      "patate\n",
      "patate\n",
      "Entrez un autre nombre\n",
      "patate\n",
      "patatepatatepatatepatate\n",
      "Entrez un troisième nombre\n",
      "patate\n"
     ]
    },
    {
     "ename": "ValueError",
     "evalue": "invalid literal for int() with base 10: 'patate'",
     "output_type": "error",
     "traceback": [
      "\u001b[0;31m---------------------------------------------------------------------------\u001b[0m",
      "\u001b[0;31mValueError\u001b[0m                                Traceback (most recent call last)",
      "\u001b[0;32m<ipython-input-2-ce31141a7de8>\u001b[0m in \u001b[0;36m<module>\u001b[0;34m()\u001b[0m\n\u001b[1;32m      8\u001b[0m \u001b[0;34m\u001b[0m\u001b[0m\n\u001b[1;32m      9\u001b[0m \u001b[0mprint\u001b[0m\u001b[0;34m(\u001b[0m\u001b[0;34m\"Entrez un troisième nombre\"\u001b[0m\u001b[0;34m)\u001b[0m\u001b[0;34m\u001b[0m\u001b[0m\n\u001b[0;32m---> 10\u001b[0;31m \u001b[0mc\u001b[0m \u001b[0;34m=\u001b[0m \u001b[0mint\u001b[0m\u001b[0;34m(\u001b[0m\u001b[0minput\u001b[0m\u001b[0;34m(\u001b[0m\u001b[0;34m)\u001b[0m\u001b[0;34m)\u001b[0m\u001b[0;34m\u001b[0m\u001b[0m\n\u001b[0m\u001b[1;32m     11\u001b[0m \u001b[0mprint\u001b[0m\u001b[0;34m(\u001b[0m\u001b[0;36m4\u001b[0m\u001b[0;34m*\u001b[0m\u001b[0mc\u001b[0m\u001b[0;34m)\u001b[0m\u001b[0;34m\u001b[0m\u001b[0m\n\u001b[1;32m     12\u001b[0m \u001b[0;34m\u001b[0m\u001b[0m\n",
      "\u001b[0;31mValueError\u001b[0m: invalid literal for int() with base 10: 'patate'"
     ]
    }
   ],
   "source": [
    "print(\"Entrez un nombre\")\n",
    "a = input()\n",
    "print(a)\n",
    "\n",
    "print(\"Entrez un autre nombre\")\n",
    "b = input()\n",
    "print(4*b)\n",
    "\n",
    "print(\"Entrez un troisième nombre\")\n",
    "c = int(input())\n",
    "print(4*c)\n",
    "\n",
    "print(\"Entrez une chaîne de caractères\")\n",
    "d = input()\n",
    "print(\"La chaîne entrée est \"+d)"
   ]
  },
  {
   "cell_type": "markdown",
   "metadata": {},
   "source": [
    "**Question 2.** Maintenant que vous maîtrisez les entrées-sorties, écrivez donc l'algorithme du jeu \"devinez le nombre\". "
   ]
  },
  {
   "cell_type": "code",
   "execution_count": 6,
   "metadata": {
    "collapsed": false
   },
   "outputs": [
    {
     "name": "stdout",
     "output_type": "stream",
     "text": [
      "Quel est le nombre ? 1\n",
      "C'est plus !\n",
      "Essaie encore !56\n",
      "C'est moins !\n",
      "Essaie encore !10\n",
      "Bingo !\n"
     ]
    }
   ],
   "source": [
    "def plusOuMoins(nb):\n",
    "    inb = int(input(\"Quel est le nombre ? \"))\n",
    "    while(nb != inb):\n",
    "        if(nb > inb):\n",
    "            print(\"C'est plus !\")\n",
    "        else:\n",
    "            print(\"C'est moins !\")\n",
    "        inb = int(input(\"Essaie encore !\"))\n",
    "    print(\"Bingo !\")\n",
    "plusOuMoins(10)"
   ]
  },
  {
   "cell_type": "code",
   "execution_count": 10,
   "metadata": {
    "collapsed": false
   },
   "outputs": [
    {
     "name": "stdout",
     "output_type": "stream",
     "text": [
      "Quel est le nombre mystère ?2\n",
      "Le nombre mystère est plus grand !\n",
      "Quel est le nombre mystère ?2\n",
      "Le nombre mystère est plus grand !\n",
      "Quel est le nombre mystère ?2\n",
      "Le nombre mystère est plus grand !\n",
      "Quel est le nombre mystère ?2\n",
      "Le nombre mystère est plus grand !\n",
      "Quel est le nombre mystère ?2\n",
      "Le nombre mystère est plus grand !\n",
      "Quel est le nombre mystère ?2\n",
      "Le nombre mystère est plus grand !\n",
      "Quel est le nombre mystère ?2\n",
      "Le nombre mystère est plus grand !\n",
      "Quel est le nombre mystère ?2\n",
      "Le nombre mystère est plus grand !\n",
      "Quel est le nombre mystère ?2\n",
      "Le nombre mystère est plus grand !\n",
      "Quel est le nombre mystère ?2\n",
      "Le nombre mystère est plus grand !\n",
      "Tu as perdu !\n"
     ]
    }
   ],
   "source": [
    "def nombreMystere():\n",
    "    nombreMyst = 5\n",
    "    nbrChances = 10\n",
    "    chances = nbrChances\n",
    "    \n",
    "    while chances > 0:\n",
    "        nombre = int(input(\"Quel est le nombre mystère ?\"))\n",
    "        if nombre == nombreMyst:\n",
    "            print(\"Bravo ! Trouvé en \" ++ str(nbrChances - chances + 1) + \" coups\")\n",
    "            chances = 0 # pour sortir de la boucle\n",
    "        elif nombre > nombreMyst:\n",
    "            print(\"Le nombre mystère est plus petit !\")\n",
    "            chances = chances - 1\n",
    "        else:\n",
    "            print(\"Le nombre mystère est plus grand !\")\n",
    "            chances = chances - 1\n",
    "        if nombre != nombreMyst and chances == 0:\n",
    "            print(\"Tu as perdu !\")\n",
    "nombreMystere()\n"
   ]
  },
  {
   "cell_type": "markdown",
   "metadata": {},
   "source": [
    "**Question 3.** Écrivez un algorithme qui demande à l'utilisateur trois nombres et qui affiche le minimum, le maximum, la somme et la moyenne des trois nombres en une seule ligne. Vous veillerez bien à décomposer votre algorithme en plusieurs petits algorithmes.  "
   ]
  },
  {
   "cell_type": "code",
   "execution_count": 13,
   "metadata": {
    "collapsed": false
   },
   "outputs": [
    {
     "name": "stdout",
     "output_type": "stream",
     "text": [
      "Entrez un premier nombre 1\n",
      "Entrez un deuxième nombre 1\n",
      "Entrez un troisième nombre 1\n",
      "Le minimum est  1 , le maximum est  1 , la somme est  3  et la moyenne est  1.0\n"
     ]
    }
   ],
   "source": [
    "# Ici, gérer l'écriture des algos séparés :\n",
    "def maSomme (a,b,c):\n",
    "    return (a+b+c)\n",
    "\n",
    "def maMoyenne (a,b,c):\n",
    "    return ((maSomme(a,b,c))/3)\n",
    "\n",
    "def monMin(a,b,c):\n",
    "    min=a\n",
    "    if (b<min):\n",
    "        min=b\n",
    "    if (c<min):\n",
    "        min=c\n",
    "    return(min)\n",
    "\n",
    "def monMax(a,b,c):\n",
    "    max=a\n",
    "    if (b>max):\n",
    "        max=b\n",
    "    if (c>max):\n",
    "        max=c\n",
    "    return(max)\n",
    "\n",
    "\n",
    "def trucQuiSertARien(a, b, c):   \n",
    "    \n",
    "    mini = monMin(a, b, c)\n",
    "    maxi = monMax(a, b, c)\n",
    "    som = maSomme(a, b, c)\n",
    "    moy = maMoyenne(a, b, c)\n",
    "    \n",
    "    # Ici, gérer l'affichage à l'écran :\n",
    "    print(\"Le minimum est \",mini,\", le maximum est \",maxi,\", la somme est \",som,\" et la moyenne est \",moy)\n",
    "    \n",
    "\n",
    "# Ici, gérer la saisie des valeurs par l'utilisateur : \n",
    "vala = int(input(\"Entrez un premier nombre \"))\n",
    "valb = int(input(\"Entrez un deuxième nombre \"))\n",
    "valc = int(input(\"Entrez un troisième nombre \"))\n",
    "\n",
    "trucQuiSertARien(vala, valb, valc)\n",
    "\n",
    "    "
   ]
  },
  {
   "cell_type": "code",
   "execution_count": 11,
   "metadata": {
    "collapsed": false
   },
   "outputs": [
    {
     "name": "stdout",
     "output_type": "stream",
     "text": [
      "Deviner le nombre (entre 1 et 10)\n",
      "Entrer un nombre : 7\n",
      "C'est moins\n",
      "Entrer un nombre : 2\n",
      "C'est plus\n",
      "Entrer un nombre : 6\n",
      "C'est moins\n",
      "Entrer un nombre : 5\n",
      "C'est moins\n",
      "Entrer un nombre : 4\n",
      "Vous avez gagné en 5 coups ! Bravo :D\n"
     ]
    }
   ],
   "source": [
    "#Correction alternative\n",
    "def devinerLeNombre():\n",
    "    nombreADeviner = 4\n",
    "    print(\"Deviner le nombre (entre 1 et 10)\")\n",
    "    entree = 0\n",
    "    i = 0\n",
    "    while entree != nombreADeviner and i < 10:\n",
    "        entree = int(input(\"Entrer un nombre : \"))\n",
    "        if entree > nombreADeviner:\n",
    "            print(\"C'est moins\")\n",
    "        if entree < nombreADeviner:\n",
    "            print(\"C'est plus\")\n",
    "        i += 1\n",
    "    if nombreADeviner == entree:\n",
    "        print(\"Vous avez gagné en\",i,\"coups ! Bravo :D\")\n",
    "    else:\n",
    "        print(\"Changer de jeu vous êtes nul !\")\n",
    "        \n",
    "\n",
    "devinerLeNombre()"
   ]
  },
  {
   "cell_type": "markdown",
   "metadata": {},
   "source": [
    "**Question 4.** Si vous avez terminé tous les exercices de ce TD, je vous recommande, pour réviser : \n",
    "\n",
    "  * http://liris.cnrs.fr/~pchampin/enseignement/algo/exercices/instructions.html#annee-bissextile\n",
    "  * http://liris.cnrs.fr/~pchampin/enseignement/algo/exercices/instructions.html#ordre-dates\n",
    "  * http://liris.cnrs.fr/~pchampin/enseignement/algo/exercices/instructions.html#factorielle\n",
    "  * http://liris.cnrs.fr/~pchampin/enseignement/algo/exercices/instructions.html#sin"
   ]
  }
 ],
 "metadata": {
  "kernelspec": {
   "display_name": "Python 3",
   "language": "python",
   "name": "python3"
  },
  "language_info": {
   "codemirror_mode": {
    "name": "ipython",
    "version": 3
   },
   "file_extension": ".py",
   "mimetype": "text/x-python",
   "name": "python",
   "nbconvert_exporter": "python",
   "pygments_lexer": "ipython3",
   "version": "3.5.2"
  }
 },
 "nbformat": 4,
 "nbformat_minor": 1
}
